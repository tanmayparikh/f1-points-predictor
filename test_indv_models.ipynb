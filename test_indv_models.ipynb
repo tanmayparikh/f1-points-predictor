{
 "cells": [
  {
   "cell_type": "code",
   "execution_count": 1,
   "metadata": {},
   "outputs": [],
   "source": [
    "import pandas as pd\n",
    "import numpy as np\n",
    "import matplotlib.pyplot as plt\n",
    "from sklearn.neural_network import MLPRegressor\n",
    "from sklearn.preprocessing import StandardScaler\n",
    "import itertools"
   ]
  },
  {
   "cell_type": "code",
   "execution_count": 2,
   "metadata": {},
   "outputs": [
    {
     "output_type": "execute_result",
     "data": {
      "text/plain": "   raceId                   race  year                         circuit  \\\n0     337     Bahrain Grand Prix  2010   Bahrain International Circuit   \n1     337     Bahrain Grand Prix  2010   Bahrain International Circuit   \n2     337     Bahrain Grand Prix  2010   Bahrain International Circuit   \n3     337     Bahrain Grand Prix  2010   Bahrain International Circuit   \n4     338  Australian Grand Prix  2010  Albert Park Grand Prix Circuit   \n\n  constructor driver  qualifyingPos  position  points teammate  \n0     Ferrari    ALO              3         1    25.0    OTHER  \n1     McLaren    HAM              4         3    15.0    OTHER  \n2    Red Bull    VET              1         4    12.0    OTHER  \n3    Williams    HUL             13        14     0.0    OTHER  \n4     Ferrari    ALO              3         4    12.0    OTHER  ",
      "text/html": "<div>\n<style scoped>\n    .dataframe tbody tr th:only-of-type {\n        vertical-align: middle;\n    }\n\n    .dataframe tbody tr th {\n        vertical-align: top;\n    }\n\n    .dataframe thead th {\n        text-align: right;\n    }\n</style>\n<table border=\"1\" class=\"dataframe\">\n  <thead>\n    <tr style=\"text-align: right;\">\n      <th></th>\n      <th>raceId</th>\n      <th>race</th>\n      <th>year</th>\n      <th>circuit</th>\n      <th>constructor</th>\n      <th>driver</th>\n      <th>qualifyingPos</th>\n      <th>position</th>\n      <th>points</th>\n      <th>teammate</th>\n    </tr>\n  </thead>\n  <tbody>\n    <tr>\n      <th>0</th>\n      <td>337</td>\n      <td>Bahrain Grand Prix</td>\n      <td>2010</td>\n      <td>Bahrain International Circuit</td>\n      <td>Ferrari</td>\n      <td>ALO</td>\n      <td>3</td>\n      <td>1</td>\n      <td>25.0</td>\n      <td>OTHER</td>\n    </tr>\n    <tr>\n      <th>1</th>\n      <td>337</td>\n      <td>Bahrain Grand Prix</td>\n      <td>2010</td>\n      <td>Bahrain International Circuit</td>\n      <td>McLaren</td>\n      <td>HAM</td>\n      <td>4</td>\n      <td>3</td>\n      <td>15.0</td>\n      <td>OTHER</td>\n    </tr>\n    <tr>\n      <th>2</th>\n      <td>337</td>\n      <td>Bahrain Grand Prix</td>\n      <td>2010</td>\n      <td>Bahrain International Circuit</td>\n      <td>Red Bull</td>\n      <td>VET</td>\n      <td>1</td>\n      <td>4</td>\n      <td>12.0</td>\n      <td>OTHER</td>\n    </tr>\n    <tr>\n      <th>3</th>\n      <td>337</td>\n      <td>Bahrain Grand Prix</td>\n      <td>2010</td>\n      <td>Bahrain International Circuit</td>\n      <td>Williams</td>\n      <td>HUL</td>\n      <td>13</td>\n      <td>14</td>\n      <td>0.0</td>\n      <td>OTHER</td>\n    </tr>\n    <tr>\n      <th>4</th>\n      <td>338</td>\n      <td>Australian Grand Prix</td>\n      <td>2010</td>\n      <td>Albert Park Grand Prix Circuit</td>\n      <td>Ferrari</td>\n      <td>ALO</td>\n      <td>3</td>\n      <td>4</td>\n      <td>12.0</td>\n      <td>OTHER</td>\n    </tr>\n  </tbody>\n</table>\n</div>"
     },
     "metadata": {},
     "execution_count": 2
    }
   ],
   "source": [
    "data_raw = pd.read_csv(\"f1_clean.csv\")\n",
    "data_raw.head()"
   ]
  },
  {
   "cell_type": "code",
   "execution_count": 3,
   "metadata": {},
   "outputs": [
    {
     "output_type": "execute_result",
     "data": {
      "text/plain": "      year                         circuit   constructor driver  \\\n0     2010   Bahrain International Circuit       Ferrari    ALO   \n1     2010   Bahrain International Circuit       McLaren    HAM   \n2     2010   Bahrain International Circuit      Red Bull    VET   \n3     2010   Bahrain International Circuit      Williams    HUL   \n4     2010  Albert Park Grand Prix Circuit       Ferrari    ALO   \n...    ...                             ...           ...    ...   \n2733  2023    Autódromo Hermanos Rodríguez    Alfa Romeo    BOT   \n2734  2023    Autódromo Hermanos Rodríguez  Aston Martin    STR   \n2735  2023    Autódromo Hermanos Rodríguez  Aston Martin    ALO   \n2736  2023    Autódromo Hermanos Rodríguez  Haas F1 Team    MAG   \n2737  2023    Autódromo Hermanos Rodríguez      Red Bull    PER   \n\n      qualifyingPos teammate  position  points  \n0                 3    OTHER         1    25.0  \n1                 4    OTHER         3    15.0  \n2                 1    OTHER         4    12.0  \n3                13    OTHER        14     0.0  \n4                 3    OTHER         4    12.0  \n...             ...      ...       ...     ...  \n2733              9      ZHO        15     0.0  \n2734              0      ALO        17     0.0  \n2735             13      STR         0     0.0  \n2736             16      HUL         0     0.0  \n2737              5      VER         0     0.0  \n\n[2738 rows x 8 columns]",
      "text/html": "<div>\n<style scoped>\n    .dataframe tbody tr th:only-of-type {\n        vertical-align: middle;\n    }\n\n    .dataframe tbody tr th {\n        vertical-align: top;\n    }\n\n    .dataframe thead th {\n        text-align: right;\n    }\n</style>\n<table border=\"1\" class=\"dataframe\">\n  <thead>\n    <tr style=\"text-align: right;\">\n      <th></th>\n      <th>year</th>\n      <th>circuit</th>\n      <th>constructor</th>\n      <th>driver</th>\n      <th>qualifyingPos</th>\n      <th>teammate</th>\n      <th>position</th>\n      <th>points</th>\n    </tr>\n  </thead>\n  <tbody>\n    <tr>\n      <th>0</th>\n      <td>2010</td>\n      <td>Bahrain International Circuit</td>\n      <td>Ferrari</td>\n      <td>ALO</td>\n      <td>3</td>\n      <td>OTHER</td>\n      <td>1</td>\n      <td>25.0</td>\n    </tr>\n    <tr>\n      <th>1</th>\n      <td>2010</td>\n      <td>Bahrain International Circuit</td>\n      <td>McLaren</td>\n      <td>HAM</td>\n      <td>4</td>\n      <td>OTHER</td>\n      <td>3</td>\n      <td>15.0</td>\n    </tr>\n    <tr>\n      <th>2</th>\n      <td>2010</td>\n      <td>Bahrain International Circuit</td>\n      <td>Red Bull</td>\n      <td>VET</td>\n      <td>1</td>\n      <td>OTHER</td>\n      <td>4</td>\n      <td>12.0</td>\n    </tr>\n    <tr>\n      <th>3</th>\n      <td>2010</td>\n      <td>Bahrain International Circuit</td>\n      <td>Williams</td>\n      <td>HUL</td>\n      <td>13</td>\n      <td>OTHER</td>\n      <td>14</td>\n      <td>0.0</td>\n    </tr>\n    <tr>\n      <th>4</th>\n      <td>2010</td>\n      <td>Albert Park Grand Prix Circuit</td>\n      <td>Ferrari</td>\n      <td>ALO</td>\n      <td>3</td>\n      <td>OTHER</td>\n      <td>4</td>\n      <td>12.0</td>\n    </tr>\n    <tr>\n      <th>...</th>\n      <td>...</td>\n      <td>...</td>\n      <td>...</td>\n      <td>...</td>\n      <td>...</td>\n      <td>...</td>\n      <td>...</td>\n      <td>...</td>\n    </tr>\n    <tr>\n      <th>2733</th>\n      <td>2023</td>\n      <td>Autódromo Hermanos Rodríguez</td>\n      <td>Alfa Romeo</td>\n      <td>BOT</td>\n      <td>9</td>\n      <td>ZHO</td>\n      <td>15</td>\n      <td>0.0</td>\n    </tr>\n    <tr>\n      <th>2734</th>\n      <td>2023</td>\n      <td>Autódromo Hermanos Rodríguez</td>\n      <td>Aston Martin</td>\n      <td>STR</td>\n      <td>0</td>\n      <td>ALO</td>\n      <td>17</td>\n      <td>0.0</td>\n    </tr>\n    <tr>\n      <th>2735</th>\n      <td>2023</td>\n      <td>Autódromo Hermanos Rodríguez</td>\n      <td>Aston Martin</td>\n      <td>ALO</td>\n      <td>13</td>\n      <td>STR</td>\n      <td>0</td>\n      <td>0.0</td>\n    </tr>\n    <tr>\n      <th>2736</th>\n      <td>2023</td>\n      <td>Autódromo Hermanos Rodríguez</td>\n      <td>Haas F1 Team</td>\n      <td>MAG</td>\n      <td>16</td>\n      <td>HUL</td>\n      <td>0</td>\n      <td>0.0</td>\n    </tr>\n    <tr>\n      <th>2737</th>\n      <td>2023</td>\n      <td>Autódromo Hermanos Rodríguez</td>\n      <td>Red Bull</td>\n      <td>PER</td>\n      <td>5</td>\n      <td>VER</td>\n      <td>0</td>\n      <td>0.0</td>\n    </tr>\n  </tbody>\n</table>\n<p>2738 rows × 8 columns</p>\n</div>"
     },
     "metadata": {},
     "execution_count": 3
    }
   ],
   "source": [
    "data_train = data_raw[[\"year\", \"circuit\", \"constructor\", \"driver\", \"qualifyingPos\", \"teammate\", \"position\", \"points\"]]\n",
    "data_train"
   ]
  },
  {
   "cell_type": "code",
   "execution_count": 4,
   "metadata": {},
   "outputs": [],
   "source": [
    "def standard_scaler_scale(data):\n",
    "    return (data - data.mean()) / data.std()\n",
    "\n",
    "def standard_scaler_unscale(data, mean, std):\n",
    "    return data * std + mean"
   ]
  },
  {
   "cell_type": "code",
   "execution_count": 5,
   "metadata": {},
   "outputs": [
    {
     "output_type": "execute_result",
     "data": {
      "text/plain": "                               circuit driver teammate  qualifyingPos  \\\n0        Bahrain International Circuit    ALO    OTHER              1   \n1        Bahrain International Circuit    ALO    OTHER              1   \n2        Bahrain International Circuit    ALO    OTHER              1   \n3        Bahrain International Circuit    ALO    OTHER              1   \n4        Bahrain International Circuit    ALO    OTHER              1   \n...                                ...    ...      ...            ...   \n1755395        Jeddah Corniche Circuit    ZHO      TSU             20   \n1755396        Jeddah Corniche Circuit    ZHO      TSU             20   \n1755397        Jeddah Corniche Circuit    ZHO      TSU             20   \n1755398        Jeddah Corniche Circuit    ZHO      TSU             20   \n1755399        Jeddah Corniche Circuit    ZHO      TSU             20   \n\n            constructor  \n0               Ferrari  \n1               McLaren  \n2              Red Bull  \n3              Williams  \n4            Alfa Romeo  \n...                 ...  \n1755395  Alpine F1 Team  \n1755396      AlphaTauri  \n1755397    Aston Martin  \n1755398        Mercedes  \n1755399    Haas F1 Team  \n\n[1675800 rows x 5 columns]",
      "text/html": "<div>\n<style scoped>\n    .dataframe tbody tr th:only-of-type {\n        vertical-align: middle;\n    }\n\n    .dataframe tbody tr th {\n        vertical-align: top;\n    }\n\n    .dataframe thead th {\n        text-align: right;\n    }\n</style>\n<table border=\"1\" class=\"dataframe\">\n  <thead>\n    <tr style=\"text-align: right;\">\n      <th></th>\n      <th>circuit</th>\n      <th>driver</th>\n      <th>teammate</th>\n      <th>qualifyingPos</th>\n      <th>constructor</th>\n    </tr>\n  </thead>\n  <tbody>\n    <tr>\n      <th>0</th>\n      <td>Bahrain International Circuit</td>\n      <td>ALO</td>\n      <td>OTHER</td>\n      <td>1</td>\n      <td>Ferrari</td>\n    </tr>\n    <tr>\n      <th>1</th>\n      <td>Bahrain International Circuit</td>\n      <td>ALO</td>\n      <td>OTHER</td>\n      <td>1</td>\n      <td>McLaren</td>\n    </tr>\n    <tr>\n      <th>2</th>\n      <td>Bahrain International Circuit</td>\n      <td>ALO</td>\n      <td>OTHER</td>\n      <td>1</td>\n      <td>Red Bull</td>\n    </tr>\n    <tr>\n      <th>3</th>\n      <td>Bahrain International Circuit</td>\n      <td>ALO</td>\n      <td>OTHER</td>\n      <td>1</td>\n      <td>Williams</td>\n    </tr>\n    <tr>\n      <th>4</th>\n      <td>Bahrain International Circuit</td>\n      <td>ALO</td>\n      <td>OTHER</td>\n      <td>1</td>\n      <td>Alfa Romeo</td>\n    </tr>\n    <tr>\n      <th>...</th>\n      <td>...</td>\n      <td>...</td>\n      <td>...</td>\n      <td>...</td>\n      <td>...</td>\n    </tr>\n    <tr>\n      <th>1755395</th>\n      <td>Jeddah Corniche Circuit</td>\n      <td>ZHO</td>\n      <td>TSU</td>\n      <td>20</td>\n      <td>Alpine F1 Team</td>\n    </tr>\n    <tr>\n      <th>1755396</th>\n      <td>Jeddah Corniche Circuit</td>\n      <td>ZHO</td>\n      <td>TSU</td>\n      <td>20</td>\n      <td>AlphaTauri</td>\n    </tr>\n    <tr>\n      <th>1755397</th>\n      <td>Jeddah Corniche Circuit</td>\n      <td>ZHO</td>\n      <td>TSU</td>\n      <td>20</td>\n      <td>Aston Martin</td>\n    </tr>\n    <tr>\n      <th>1755398</th>\n      <td>Jeddah Corniche Circuit</td>\n      <td>ZHO</td>\n      <td>TSU</td>\n      <td>20</td>\n      <td>Mercedes</td>\n    </tr>\n    <tr>\n      <th>1755399</th>\n      <td>Jeddah Corniche Circuit</td>\n      <td>ZHO</td>\n      <td>TSU</td>\n      <td>20</td>\n      <td>Haas F1 Team</td>\n    </tr>\n  </tbody>\n</table>\n<p>1675800 rows × 5 columns</p>\n</div>"
     },
     "metadata": {},
     "execution_count": 5
    }
   ],
   "source": [
    "circuits = data_train.circuit.unique()\n",
    "drivers = data_train.driver.unique()\n",
    "teammates = data_train.teammate.unique()\n",
    "constructors = data_train.constructor.unique()\n",
    "# qualifying_positions = data_train.qualifyingPos.unique()\n",
    "qualifying_positions = [1, 2, 3, 4, 5, 6, 7, 8, 9, 10, 11, 12, 13, 14, 15, 16, 17, 18, 19, 20]\n",
    "all_list = [circuits, drivers, teammates, qualifying_positions, constructors]\n",
    " \n",
    "res = list(itertools.product(*all_list))\n",
    "\n",
    "all_permutations = pd.DataFrame(res, columns=['circuit', 'driver', 'teammate', 'qualifyingPos', 'constructor'])\n",
    "cleaned_permutations = all_permutations.loc[all_permutations['driver'] != all_permutations['teammate']]\n",
    "cleaned_permutations\n"
   ]
  },
  {
   "cell_type": "code",
   "execution_count": 8,
   "metadata": {},
   "outputs": [
    {
     "output_type": "execute_result",
     "data": {
      "text/plain": "                           circuit  percentDnf\n0   Albert Park Grand Prix Circuit    0.250000\n1    Autodromo Enzo e Dino Ferrari    0.176471\n2     Autodromo Nazionale di Monza    0.135294\n3     Autódromo Hermanos Rodríguez    0.138211\n4       Autódromo José Carlos Pace    0.136691\n5    Bahrain International Circuit    0.131148\n6                Baku City Circuit    0.209091\n7        Circuit Gilles Villeneuve    0.107914\n8   Circuit de Barcelona-Catalunya    0.115607\n9                Circuit de Monaco    0.154839\n10    Circuit de Spa-Francorchamps    0.166667\n11         Circuit of the Americas    0.195946\n12                     Hungaroring    0.132184\n13         Jeddah Corniche Circuit    0.176471\n14       Marina Bay Street Circuit    0.207143\n15                   Red Bull Ring    0.165746\n16             Silverstone Circuit    0.152632\n17                  Suzuka Circuit    0.148936\n18              Yas Marina Circuit    0.121795",
      "text/html": "<div>\n<style scoped>\n    .dataframe tbody tr th:only-of-type {\n        vertical-align: middle;\n    }\n\n    .dataframe tbody tr th {\n        vertical-align: top;\n    }\n\n    .dataframe thead th {\n        text-align: right;\n    }\n</style>\n<table border=\"1\" class=\"dataframe\">\n  <thead>\n    <tr style=\"text-align: right;\">\n      <th></th>\n      <th>circuit</th>\n      <th>percentDnf</th>\n    </tr>\n  </thead>\n  <tbody>\n    <tr>\n      <th>0</th>\n      <td>Albert Park Grand Prix Circuit</td>\n      <td>0.250000</td>\n    </tr>\n    <tr>\n      <th>1</th>\n      <td>Autodromo Enzo e Dino Ferrari</td>\n      <td>0.176471</td>\n    </tr>\n    <tr>\n      <th>2</th>\n      <td>Autodromo Nazionale di Monza</td>\n      <td>0.135294</td>\n    </tr>\n    <tr>\n      <th>3</th>\n      <td>Autódromo Hermanos Rodríguez</td>\n      <td>0.138211</td>\n    </tr>\n    <tr>\n      <th>4</th>\n      <td>Autódromo José Carlos Pace</td>\n      <td>0.136691</td>\n    </tr>\n    <tr>\n      <th>5</th>\n      <td>Bahrain International Circuit</td>\n      <td>0.131148</td>\n    </tr>\n    <tr>\n      <th>6</th>\n      <td>Baku City Circuit</td>\n      <td>0.209091</td>\n    </tr>\n    <tr>\n      <th>7</th>\n      <td>Circuit Gilles Villeneuve</td>\n      <td>0.107914</td>\n    </tr>\n    <tr>\n      <th>8</th>\n      <td>Circuit de Barcelona-Catalunya</td>\n      <td>0.115607</td>\n    </tr>\n    <tr>\n      <th>9</th>\n      <td>Circuit de Monaco</td>\n      <td>0.154839</td>\n    </tr>\n    <tr>\n      <th>10</th>\n      <td>Circuit de Spa-Francorchamps</td>\n      <td>0.166667</td>\n    </tr>\n    <tr>\n      <th>11</th>\n      <td>Circuit of the Americas</td>\n      <td>0.195946</td>\n    </tr>\n    <tr>\n      <th>12</th>\n      <td>Hungaroring</td>\n      <td>0.132184</td>\n    </tr>\n    <tr>\n      <th>13</th>\n      <td>Jeddah Corniche Circuit</td>\n      <td>0.176471</td>\n    </tr>\n    <tr>\n      <th>14</th>\n      <td>Marina Bay Street Circuit</td>\n      <td>0.207143</td>\n    </tr>\n    <tr>\n      <th>15</th>\n      <td>Red Bull Ring</td>\n      <td>0.165746</td>\n    </tr>\n    <tr>\n      <th>16</th>\n      <td>Silverstone Circuit</td>\n      <td>0.152632</td>\n    </tr>\n    <tr>\n      <th>17</th>\n      <td>Suzuka Circuit</td>\n      <td>0.148936</td>\n    </tr>\n    <tr>\n      <th>18</th>\n      <td>Yas Marina Circuit</td>\n      <td>0.121795</td>\n    </tr>\n  </tbody>\n</table>\n</div>"
     },
     "metadata": {},
     "execution_count": 8
    }
   ],
   "source": [
    "dnf_circuit = pd.read_csv('f1_dnf_circuit.csv')\n",
    "dnf_circuit"
   ]
  },
  {
   "cell_type": "code",
   "execution_count": 19,
   "metadata": {},
   "outputs": [],
   "source": [
    "current_circuits = data_train.loc[data_train['year'] == 2023]['circuit'].unique()\n",
    "current_drivers = data_train.loc[data_train['year'] == 2023]['driver'].unique()"
   ]
  },
  {
   "cell_type": "code",
   "execution_count": 20,
   "metadata": {},
   "outputs": [],
   "source": [
    "all_preds = []\n",
    "\n",
    "# create a dataframe to store the results\n",
    "final_results = pd.DataFrame(columns=['circuit', 'driver', 'pred_pos'])\n",
    "\n",
    "for circuit in current_circuits: \n",
    "\n",
    "    # create training data\n",
    "    circuit_data = data_train.loc[(data_train['circuit'] == circuit) & (data_train['year'] !=2023)]\n",
    "\n",
    "    # combine the circuit data and permutations \n",
    "    cleaned_circuit_data = circuit_data.drop(['position', 'year', 'points'],axis = 1)\n",
    "\n",
    "    # track the split for when combining the cleaned and the permutations\n",
    "    len_cleaned_circuit_data = cleaned_circuit_data.shape[0]\n",
    "\n",
    "    # remove drivers/teammates that didn't drive this year\n",
    "    not_driving = ['GRO', 'VET', 'RAI']\n",
    "\n",
    "    current_permutations = cleaned_permutations[(~cleaned_permutations['driver'].isin(not_driving))&(~cleaned_permutations['teammate'].isin(not_driving))]\n",
    "\n",
    "    # add the permutation data to the circuit data\n",
    "    combined_circuit_permutations = cleaned_circuit_data.append(current_permutations, ignore_index=True)\n",
    "\n",
    "    # one hot encode all the data\n",
    "    one_hot_encoded_data = pd.get_dummies(combined_circuit_permutations, columns = ['circuit', 'constructor', 'driver', 'teammate'])\n",
    "\n",
    "    # get the training data\n",
    "    data_train_scaled = one_hot_encoded_data.copy()[:len_cleaned_circuit_data]\n",
    "    data_train_scaled.qualifyingPos = standard_scaler_scale(data_train_scaled.qualifyingPos)\n",
    "\n",
    "    X_train = data_train_scaled\n",
    "    y_train = standard_scaler_scale(circuit_data['position'])\n",
    "\n",
    "    # get the testing data\n",
    "    X_test = one_hot_encoded_data.copy()[len_cleaned_circuit_data:]\n",
    "    # make sure the testing data is just per circuit \n",
    "    X_test = X_test.loc[X_test['circuit_'+circuit] == 1]\n",
    "    X_test.qualifyingPos = standard_scaler_scale(X_test.qualifyingPos)\n",
    "\n",
    "    # create the circuit specific model\n",
    "    regr = MLPRegressor(\n",
    "        hidden_layer_sizes=(500, 250, 100, 50), \n",
    "        max_iter=500,\n",
    "        random_state=203043043\n",
    "        ).fit(X_train, y_train)\n",
    "\n",
    "    # randomly add in dnf \n",
    "    dnf_rate = dnf_circuit.loc[dnf_circuit['circuit'] == circuit]['percentDnf'].iloc[0]\n",
    "\n",
    "    num_values_to_replace = int(dnf_rate * len(X_test['qualifyingPos']))\n",
    "    indices_to_replace = np.random.choice(X_test.index, num_values_to_replace, replace=False)\n",
    "    X_test.loc[indices_to_replace, 'qualifyingPos'] = 0\n",
    "\n",
    "    # predict and unscale the predicted positions\n",
    "    pred_vals = standard_scaler_unscale(regr.predict(X_test), circuit_data.position.mean(), \n",
    "                                            circuit_data.position.std()).astype(np.int32)\n",
    "    X_test['all_preds'] = pred_vals     \n",
    "\n",
    "    for driver in current_drivers:\n",
    "\n",
    "        # find the median position for each driver\n",
    "        med_pos = X_test.loc[X_test['driver_'+driver] == 1]['all_preds'].median()\n",
    "        # add the results to the dataframe\n",
    "        final_results = final_results.append({'circuit': circuit, 'driver': driver, 'pred_pos': med_pos}, ignore_index=True)  \n",
    "\n",
    "final_results['pred_points'] = final_results['pred_pos']   \n",
    "final_results['pred_points'] = final_results['pred_points'].replace({1.0: 25, 2.0: 18, 3.0: 15, 4.0: 12, 5.0: 10, 6.0: 8, 7.0: 6, 8.0: 4, 9.0: 2, 10.0: 1})\n",
    "\n"
   ]
  },
  {
   "cell_type": "code",
   "execution_count": 21,
   "metadata": {},
   "outputs": [
    {
     "output_type": "execute_result",
     "data": {
      "text/plain": "                           circuit driver  pred_pos  pred_points\n0    Bahrain International Circuit    VER       6.0          8.0\n1    Bahrain International Circuit    PER       9.0          2.0\n2    Bahrain International Circuit    ALO       6.0          8.0\n3    Bahrain International Circuit    SAI       3.0         15.0\n4    Bahrain International Circuit    HAM       7.0          6.0\n..                             ...    ...       ...          ...\n283   Autódromo Hermanos Rodríguez    ZHO       9.0          2.0\n284   Autódromo Hermanos Rodríguez    NOR       4.0         12.0\n285   Autódromo Hermanos Rodríguez    OCO       7.0          6.0\n286   Autódromo Hermanos Rodríguez    LEC       5.0         10.0\n287   Autódromo Hermanos Rodríguez    RIC       6.0          8.0\n\n[288 rows x 4 columns]",
      "text/html": "<div>\n<style scoped>\n    .dataframe tbody tr th:only-of-type {\n        vertical-align: middle;\n    }\n\n    .dataframe tbody tr th {\n        vertical-align: top;\n    }\n\n    .dataframe thead th {\n        text-align: right;\n    }\n</style>\n<table border=\"1\" class=\"dataframe\">\n  <thead>\n    <tr style=\"text-align: right;\">\n      <th></th>\n      <th>circuit</th>\n      <th>driver</th>\n      <th>pred_pos</th>\n      <th>pred_points</th>\n    </tr>\n  </thead>\n  <tbody>\n    <tr>\n      <th>0</th>\n      <td>Bahrain International Circuit</td>\n      <td>VER</td>\n      <td>6.0</td>\n      <td>8.0</td>\n    </tr>\n    <tr>\n      <th>1</th>\n      <td>Bahrain International Circuit</td>\n      <td>PER</td>\n      <td>9.0</td>\n      <td>2.0</td>\n    </tr>\n    <tr>\n      <th>2</th>\n      <td>Bahrain International Circuit</td>\n      <td>ALO</td>\n      <td>6.0</td>\n      <td>8.0</td>\n    </tr>\n    <tr>\n      <th>3</th>\n      <td>Bahrain International Circuit</td>\n      <td>SAI</td>\n      <td>3.0</td>\n      <td>15.0</td>\n    </tr>\n    <tr>\n      <th>4</th>\n      <td>Bahrain International Circuit</td>\n      <td>HAM</td>\n      <td>7.0</td>\n      <td>6.0</td>\n    </tr>\n    <tr>\n      <th>...</th>\n      <td>...</td>\n      <td>...</td>\n      <td>...</td>\n      <td>...</td>\n    </tr>\n    <tr>\n      <th>283</th>\n      <td>Autódromo Hermanos Rodríguez</td>\n      <td>ZHO</td>\n      <td>9.0</td>\n      <td>2.0</td>\n    </tr>\n    <tr>\n      <th>284</th>\n      <td>Autódromo Hermanos Rodríguez</td>\n      <td>NOR</td>\n      <td>4.0</td>\n      <td>12.0</td>\n    </tr>\n    <tr>\n      <th>285</th>\n      <td>Autódromo Hermanos Rodríguez</td>\n      <td>OCO</td>\n      <td>7.0</td>\n      <td>6.0</td>\n    </tr>\n    <tr>\n      <th>286</th>\n      <td>Autódromo Hermanos Rodríguez</td>\n      <td>LEC</td>\n      <td>5.0</td>\n      <td>10.0</td>\n    </tr>\n    <tr>\n      <th>287</th>\n      <td>Autódromo Hermanos Rodríguez</td>\n      <td>RIC</td>\n      <td>6.0</td>\n      <td>8.0</td>\n    </tr>\n  </tbody>\n</table>\n<p>288 rows × 4 columns</p>\n</div>"
     },
     "metadata": {},
     "execution_count": 21
    }
   ],
   "source": [
    "final_results"
   ]
  },
  {
   "cell_type": "code",
   "execution_count": 22,
   "metadata": {},
   "outputs": [
    {
     "output_type": "execute_result",
     "data": {
      "text/plain": "        pred_pos  pred_points\ndriver                       \nHAM         66.0        202.0\nSAI         74.0        187.0\nLEC         73.0        187.0\nALO         75.0        184.0\nVER         82.0        160.0\nPER         83.0        158.0\nRIC         87.0        157.0\nTSU        108.0        153.0\nHUL         95.0        151.0\nGAS         98.0        146.0\nBOT         90.0        144.0\nOCO         92.0        140.0\nZHO        100.0        136.0\nMAG        111.0        134.0\nRUS        108.0        123.0\nNOR        100.0        123.0\nALB        103.0        120.0\nSTR        102.0        119.0",
      "text/html": "<div>\n<style scoped>\n    .dataframe tbody tr th:only-of-type {\n        vertical-align: middle;\n    }\n\n    .dataframe tbody tr th {\n        vertical-align: top;\n    }\n\n    .dataframe thead th {\n        text-align: right;\n    }\n</style>\n<table border=\"1\" class=\"dataframe\">\n  <thead>\n    <tr style=\"text-align: right;\">\n      <th></th>\n      <th>pred_pos</th>\n      <th>pred_points</th>\n    </tr>\n    <tr>\n      <th>driver</th>\n      <th></th>\n      <th></th>\n    </tr>\n  </thead>\n  <tbody>\n    <tr>\n      <th>HAM</th>\n      <td>66.0</td>\n      <td>202.0</td>\n    </tr>\n    <tr>\n      <th>SAI</th>\n      <td>74.0</td>\n      <td>187.0</td>\n    </tr>\n    <tr>\n      <th>LEC</th>\n      <td>73.0</td>\n      <td>187.0</td>\n    </tr>\n    <tr>\n      <th>ALO</th>\n      <td>75.0</td>\n      <td>184.0</td>\n    </tr>\n    <tr>\n      <th>VER</th>\n      <td>82.0</td>\n      <td>160.0</td>\n    </tr>\n    <tr>\n      <th>PER</th>\n      <td>83.0</td>\n      <td>158.0</td>\n    </tr>\n    <tr>\n      <th>RIC</th>\n      <td>87.0</td>\n      <td>157.0</td>\n    </tr>\n    <tr>\n      <th>TSU</th>\n      <td>108.0</td>\n      <td>153.0</td>\n    </tr>\n    <tr>\n      <th>HUL</th>\n      <td>95.0</td>\n      <td>151.0</td>\n    </tr>\n    <tr>\n      <th>GAS</th>\n      <td>98.0</td>\n      <td>146.0</td>\n    </tr>\n    <tr>\n      <th>BOT</th>\n      <td>90.0</td>\n      <td>144.0</td>\n    </tr>\n    <tr>\n      <th>OCO</th>\n      <td>92.0</td>\n      <td>140.0</td>\n    </tr>\n    <tr>\n      <th>ZHO</th>\n      <td>100.0</td>\n      <td>136.0</td>\n    </tr>\n    <tr>\n      <th>MAG</th>\n      <td>111.0</td>\n      <td>134.0</td>\n    </tr>\n    <tr>\n      <th>RUS</th>\n      <td>108.0</td>\n      <td>123.0</td>\n    </tr>\n    <tr>\n      <th>NOR</th>\n      <td>100.0</td>\n      <td>123.0</td>\n    </tr>\n    <tr>\n      <th>ALB</th>\n      <td>103.0</td>\n      <td>120.0</td>\n    </tr>\n    <tr>\n      <th>STR</th>\n      <td>102.0</td>\n      <td>119.0</td>\n    </tr>\n  </tbody>\n</table>\n</div>"
     },
     "metadata": {},
     "execution_count": 22
    }
   ],
   "source": [
    "final_results.groupby('driver').sum().sort_values(by=['pred_points'], ascending=False)"
   ]
  },
  {
   "cell_type": "markdown",
   "metadata": {},
   "source": [
    "## Permutation Significance Test"
   ]
  },
  {
   "cell_type": "code",
   "execution_count": 31,
   "metadata": {},
   "outputs": [
    {
     "output_type": "stream",
     "name": "stdout",
     "text": "Observed Kendall's Tau: 0.33333333333333337\nP-value: 0.057806666666666666\n"
    }
   ],
   "source": [
    "# do a permutation test using kendalltau\n",
    "from scipy.stats import kendalltau\n",
    "\n",
    "def kendall_permutation_test(observed, predicted, num_permutations=150000):\n",
    "    name_to_rank = {name: rank for rank, name in enumerate(observed, start=1)}\n",
    "\n",
    "    observed_ranks = np.array([name_to_rank[name] for name in observed])\n",
    "    predicted_ranks = np.array([name_to_rank[name] for name in predicted])\n",
    "\n",
    "    observed_tau, _ = kendalltau(observed_ranks, predicted_ranks)\n",
    "\n",
    "    permuted_taus = np.zeros(num_permutations)\n",
    "\n",
    "    for i in range(num_permutations):\n",
    "        permuted_predicted_ranks = np.random.permutation(predicted_ranks)\n",
    "        permuted_tau, _ = kendalltau(observed_ranks, permuted_predicted_ranks)\n",
    "        permuted_taus[i] = permuted_tau\n",
    "\n",
    "    p_value = np.mean(np.abs(permuted_taus) >= np.abs(observed_tau))\n",
    "\n",
    "    return observed_tau, p_value\n",
    "\n",
    "actual_rankings = list(data_train.loc[data_train['year'] == 2023].groupby('driver').sum().sort_values(by=['points'], ascending=False).index)\n",
    "predicted_rankings = list(final_results.groupby('driver').sum().sort_values(by=['pred_points'], ascending=False).index)\n",
    "\n",
    "observed_tau, p_value = kendall_permutation_test(actual_rankings, predicted_rankings)\n",
    "print(f\"Observed Kendall's Tau: {observed_tau}\")\n",
    "print(f\"P-value: {p_value}\")\n"
   ]
  },
  {
   "cell_type": "markdown",
   "metadata": {},
   "source": [
    "## ignore below"
   ]
  },
  {
   "cell_type": "code",
   "execution_count": null,
   "metadata": {},
   "outputs": [],
   "source": []
  },
  {
   "cell_type": "code",
   "execution_count": null,
   "metadata": {},
   "outputs": [],
   "source": []
  },
  {
   "cell_type": "code",
   "execution_count": 14,
   "metadata": {},
   "outputs": [],
   "source": [
    "circuit = 'Bahrain International Circuit'\n",
    "all_preds = []\n",
    "final_results = pd.DataFrame(columns=['circuit', 'driver', 'pred_pos'])\n",
    "\n",
    "# create training data\n",
    "circuit_data = data_train.loc[(data_train['circuit'] == circuit) & (data_train['year'] !=2023)]\n",
    "\n",
    "# combine the circuit data and permutations \n",
    "cleaned_circuit_data = circuit_data.drop(['position', 'year', 'points'],axis = 1)\n",
    "\n",
    "# track the split for when combining the cleaned and the permutations\n",
    "len_cleaned_circuit_data = cleaned_circuit_data.shape[0]\n",
    "\n",
    "# remove drivers/teammates that didn't drive this year\n",
    "not_driving = ['GRO', 'VET', 'RAI']\n",
    "\n",
    "current_permutations = cleaned_permutations[(~cleaned_permutations['driver'].isin(not_driving))&(~cleaned_permutations['teammate'].isin(not_driving))]\n",
    "\n",
    "# add the permutation data to the circuit data\n",
    "combined_circuit_permutations = cleaned_circuit_data.append(current_permutations, ignore_index=True)\n",
    "\n",
    "# one hot encode all the data\n",
    "one_hot_encoded_data = pd.get_dummies(combined_circuit_permutations, columns = ['circuit', 'constructor', 'driver', 'teammate'])\n",
    "\n",
    "# get the training data\n",
    "data_train_scaled = one_hot_encoded_data.copy()[:len_cleaned_circuit_data]\n",
    "data_train_scaled.qualifyingPos = standard_scaler_scale(data_train_scaled.qualifyingPos)\n",
    "\n",
    "X_train = data_train_scaled\n",
    "y_train = standard_scaler_scale(circuit_data['position'])\n",
    "\n",
    "# get the testing data\n",
    "X_test = one_hot_encoded_data.copy()[len_cleaned_circuit_data:]\n",
    "X_test = X_test.loc[X_test['circuit_'+circuit] == 1]\n",
    "X_test.qualifyingPos = standard_scaler_scale(X_test.qualifyingPos)\n",
    "\n",
    "# create the circuit specific model\n",
    "regr = MLPRegressor(\n",
    "    hidden_layer_sizes=(500, 250, 100, 50), \n",
    "    max_iter=500,\n",
    "    random_state=203043043\n",
    "    ).fit(X_train, y_train)\n",
    "\n",
    "# randomly add in dnf \n",
    "dnf_rate = dnf_circuit.loc[dnf_circuit['circuit'] == circuit]['percentDnf'].iloc[0]\n",
    "\n",
    "num_values_to_replace = int(dnf_rate * len(X_test['qualifyingPos']))\n",
    "indices_to_replace = np.random.choice(X_test.index, num_values_to_replace, replace=False)\n",
    "X_test.loc[indices_to_replace, 'qualifyingPos'] = 0\n",
    "\n",
    "# predict and unscale the predicted positions\n",
    "pred_vals = standard_scaler_unscale(regr.predict(X_test), circuit_data.position.mean(), \n",
    "                                        circuit_data.position.std()).astype(np.int32)\n",
    "X_test['all_preds'] = pred_vals     \n",
    "\n",
    "for driver in drivers:\n",
    "\n",
    "    # find the median position for each driver\n",
    "    med_pos = X_test.loc[X_test['driver_'+driver] == 1]['all_preds'].median()\n",
    "    # add the results to the dataframe\n",
    "    final_results = final_results.append({'circuit': circuit, 'driver': driver, 'pred_pos': med_pos}, ignore_index=True)  \n",
    "\n",
    "final_results['pred_points'] = final_results['pred_pos']   \n",
    "final_results['pred_points'] = final_results['pred_points'].replace({1.0: 25, 2.0: 18, 3.0: 15, 4.0: 12, 5.0: 10, 6.0: 8, 7.0: 6, 8.0: 4, 9.0: 2, 10.0: 1})\n",
    "\n",
    "\n",
    "\n",
    "\n",
    "\n"
   ]
  },
  {
   "cell_type": "code",
   "execution_count": null,
   "metadata": {},
   "outputs": [],
   "source": []
  },
  {
   "cell_type": "code",
   "execution_count": 18,
   "metadata": {},
   "outputs": [],
   "source": [
    "circuit = 'Bahrain International Circuit'\n",
    "# iterate through entire dataset\n",
    "\n",
    "all_preds = []\n",
    "\n",
    "# create a dataframe to store the results\n",
    "final_results = pd.DataFrame(columns=['circuit', 'driver', 'pred_pos'])\n",
    "\n",
    "# for circuit in current_circuits: \n",
    "# create model specific to a circuit\n",
    "circuit_data = data_train.loc[(data_train['circuit'] == circuit)]\n",
    "# circuit_training_drivers = data_train\n",
    "one_hot_encoded_data = pd.get_dummies(circuit_data, columns = ['circuit', 'constructor', 'driver', 'teammate'])\n",
    "data_train_scaled = one_hot_encoded_data.copy()\n",
    "data_train_scaled.qualifyingPos = standard_scaler_scale(one_hot_encoded_data.qualifyingPos)\n",
    "data_train_scaled.position = standard_scaler_scale(one_hot_encoded_data.position)\n",
    "\n",
    "train_set = data_train_scaled[data_train_scaled.year != 2023]\n",
    "test_set = data_train_scaled[data_train_scaled.year == 2023]\n",
    "\n",
    "X_train = train_set.drop(['position', 'year', 'points'],axis = 1)\n",
    "y_train = train_set['position']\n",
    "\n",
    "# circuit_training_drivers = X_train.driver.unique().str.split()\n",
    "\n",
    "regr = MLPRegressor(\n",
    "    hidden_layer_sizes=(500, 250, 100, 50), \n",
    "    max_iter=500,\n",
    "    random_state=203043043\n",
    "    ).fit(X_train, y_train)\n",
    "\n",
    "\n",
    "# get the data specific to the circuit\n",
    "\n",
    "# remove columns that are in test set but are not in training set \n",
    "circuit_training_drivers = data_train.driver.loc[(data_train['circuit'] == circuit) & (data_train['year'] != 2023)].unique()\n",
    "circuit_training_teammates = data_train.teammate.loc[(data_train['circuit'] == circuit) & (data_train['year'] != 2023)].unique()\n",
    "\n",
    "# if there are drivers in the permutation but not in the training set then remove them\n",
    "circuit_permutation = cleaned_permutations.loc[(cleaned_permutations['circuit'] == circuit)]\n",
    "circuit_permutation = circuit_permutation[circuit_permutation['driver'].isin(circuit_training_drivers)]\n",
    "circuit_permutation = circuit_permutation[circuit_permutation['teammate'].isin(circuit_training_teammates)]\n",
    "# do one hot encoding requires all possible combinations to be same as training set\n",
    "one_hot_circuit = pd.get_dummies(circuit_permutation, columns = ['circuit', 'constructor', 'driver', 'teammate'])\n",
    "\n",
    "\n",
    "\n",
    "# need to randomly make a couple qualifying positions dnq\n",
    "dnf_rate = dnf_circuit.loc[dnf_circuit['circuit'] == circuit]['percentDnf'].iloc[0]\n",
    "\n",
    "num_values_to_replace = int(dnf_rate * len(one_hot_circuit['qualifyingPos']))\n",
    "indices_to_replace = np.random.choice(one_hot_circuit.index, num_values_to_replace, replace=False)\n",
    "one_hot_circuit.loc[indices_to_replace, 'qualifyingPos'] = 0\n",
    "\n",
    "# predict on the circuit\n",
    "pred_vals = standard_scaler_unscale(regr.predict(one_hot_circuit), one_hot_encoded_data.position.mean(), \n",
    "                                        one_hot_encoded_data.position.std()).astype(np.int32)\n",
    "one_hot_circuit['all_preds'] = pred_vals     \n",
    "\n",
    "for driver in circuit_training_drivers:\n",
    "\n",
    "    # find the median position for each driver\n",
    "    med_pos = one_hot_circuit.loc[one_hot_circuit['driver_'+driver] == 1]['all_preds'].median()\n",
    "    # add the results to the dataframe\n",
    "    final_results = final_results.append({'circuit': circuit, 'driver': driver, 'pred_pos': med_pos}, ignore_index=True)  \n",
    "\n",
    "final_results['pred_points'] = final_results['pred_pos']   \n",
    "final_results['pred_points'] = final_results['pred_points'].replace({1.0: 25, 2.0: 18, 3.0: 15, 4.0: 12, 5.0: 10, 6.0: 8, 7.0: 6, 8.0: 4, 9.0: 2, 10.0: 1})"
   ]
  },
  {
   "cell_type": "code",
   "execution_count": 15,
   "metadata": {},
   "outputs": [
    {
     "output_type": "execute_result",
     "data": {
      "text/plain": "                          circuit driver  pred_pos  pred_points\n0   Bahrain International Circuit    ALO       6.0          8.0\n1   Bahrain International Circuit    HAM       7.0          6.0\n2   Bahrain International Circuit    VET       NaN          NaN\n3   Bahrain International Circuit    HUL       9.0          2.0\n4   Bahrain International Circuit    PER       9.0          2.0\n5   Bahrain International Circuit    RAI       NaN          NaN\n6   Bahrain International Circuit    RIC       6.0          8.0\n7   Bahrain International Circuit    GRO       NaN          NaN\n8   Bahrain International Circuit    BOT       7.0          6.0\n9   Bahrain International Circuit    MAG       6.0          8.0\n10  Bahrain International Circuit    SAI       3.0         15.0\n11  Bahrain International Circuit    VER       5.0         10.0\n12  Bahrain International Circuit    OCO       8.0          4.0\n13  Bahrain International Circuit    STR       3.0         15.0\n14  Bahrain International Circuit    GAS       4.0         12.0\n15  Bahrain International Circuit    LEC       6.0          8.0\n16  Bahrain International Circuit    NOR      10.0          1.0\n17  Bahrain International Circuit    ALB       3.5          3.5\n18  Bahrain International Circuit    RUS       8.0          4.0\n19  Bahrain International Circuit    TSU       8.0          4.0\n20  Bahrain International Circuit    ZHO       8.0          4.0",
      "text/html": "<div>\n<style scoped>\n    .dataframe tbody tr th:only-of-type {\n        vertical-align: middle;\n    }\n\n    .dataframe tbody tr th {\n        vertical-align: top;\n    }\n\n    .dataframe thead th {\n        text-align: right;\n    }\n</style>\n<table border=\"1\" class=\"dataframe\">\n  <thead>\n    <tr style=\"text-align: right;\">\n      <th></th>\n      <th>circuit</th>\n      <th>driver</th>\n      <th>pred_pos</th>\n      <th>pred_points</th>\n    </tr>\n  </thead>\n  <tbody>\n    <tr>\n      <th>0</th>\n      <td>Bahrain International Circuit</td>\n      <td>ALO</td>\n      <td>6.0</td>\n      <td>8.0</td>\n    </tr>\n    <tr>\n      <th>1</th>\n      <td>Bahrain International Circuit</td>\n      <td>HAM</td>\n      <td>7.0</td>\n      <td>6.0</td>\n    </tr>\n    <tr>\n      <th>2</th>\n      <td>Bahrain International Circuit</td>\n      <td>VET</td>\n      <td>NaN</td>\n      <td>NaN</td>\n    </tr>\n    <tr>\n      <th>3</th>\n      <td>Bahrain International Circuit</td>\n      <td>HUL</td>\n      <td>9.0</td>\n      <td>2.0</td>\n    </tr>\n    <tr>\n      <th>4</th>\n      <td>Bahrain International Circuit</td>\n      <td>PER</td>\n      <td>9.0</td>\n      <td>2.0</td>\n    </tr>\n    <tr>\n      <th>5</th>\n      <td>Bahrain International Circuit</td>\n      <td>RAI</td>\n      <td>NaN</td>\n      <td>NaN</td>\n    </tr>\n    <tr>\n      <th>6</th>\n      <td>Bahrain International Circuit</td>\n      <td>RIC</td>\n      <td>6.0</td>\n      <td>8.0</td>\n    </tr>\n    <tr>\n      <th>7</th>\n      <td>Bahrain International Circuit</td>\n      <td>GRO</td>\n      <td>NaN</td>\n      <td>NaN</td>\n    </tr>\n    <tr>\n      <th>8</th>\n      <td>Bahrain International Circuit</td>\n      <td>BOT</td>\n      <td>7.0</td>\n      <td>6.0</td>\n    </tr>\n    <tr>\n      <th>9</th>\n      <td>Bahrain International Circuit</td>\n      <td>MAG</td>\n      <td>6.0</td>\n      <td>8.0</td>\n    </tr>\n    <tr>\n      <th>10</th>\n      <td>Bahrain International Circuit</td>\n      <td>SAI</td>\n      <td>3.0</td>\n      <td>15.0</td>\n    </tr>\n    <tr>\n      <th>11</th>\n      <td>Bahrain International Circuit</td>\n      <td>VER</td>\n      <td>5.0</td>\n      <td>10.0</td>\n    </tr>\n    <tr>\n      <th>12</th>\n      <td>Bahrain International Circuit</td>\n      <td>OCO</td>\n      <td>8.0</td>\n      <td>4.0</td>\n    </tr>\n    <tr>\n      <th>13</th>\n      <td>Bahrain International Circuit</td>\n      <td>STR</td>\n      <td>3.0</td>\n      <td>15.0</td>\n    </tr>\n    <tr>\n      <th>14</th>\n      <td>Bahrain International Circuit</td>\n      <td>GAS</td>\n      <td>4.0</td>\n      <td>12.0</td>\n    </tr>\n    <tr>\n      <th>15</th>\n      <td>Bahrain International Circuit</td>\n      <td>LEC</td>\n      <td>6.0</td>\n      <td>8.0</td>\n    </tr>\n    <tr>\n      <th>16</th>\n      <td>Bahrain International Circuit</td>\n      <td>NOR</td>\n      <td>10.0</td>\n      <td>1.0</td>\n    </tr>\n    <tr>\n      <th>17</th>\n      <td>Bahrain International Circuit</td>\n      <td>ALB</td>\n      <td>3.5</td>\n      <td>3.5</td>\n    </tr>\n    <tr>\n      <th>18</th>\n      <td>Bahrain International Circuit</td>\n      <td>RUS</td>\n      <td>8.0</td>\n      <td>4.0</td>\n    </tr>\n    <tr>\n      <th>19</th>\n      <td>Bahrain International Circuit</td>\n      <td>TSU</td>\n      <td>8.0</td>\n      <td>4.0</td>\n    </tr>\n    <tr>\n      <th>20</th>\n      <td>Bahrain International Circuit</td>\n      <td>ZHO</td>\n      <td>8.0</td>\n      <td>4.0</td>\n    </tr>\n  </tbody>\n</table>\n</div>"
     },
     "metadata": {},
     "execution_count": 15
    }
   ],
   "source": [
    "final_results"
   ]
  },
  {
   "cell_type": "code",
   "execution_count": null,
   "metadata": {},
   "outputs": [],
   "source": []
  }
 ],
 "metadata": {
  "language_info": {
   "codemirror_mode": {
    "name": "ipython",
    "version": 3
   },
   "file_extension": ".py",
   "mimetype": "text/x-python",
   "name": "python",
   "nbconvert_exporter": "python",
   "pygments_lexer": "ipython3",
   "version": "3.10.6-final"
  },
  "orig_nbformat": 2,
  "kernelspec": {
   "name": "en685648",
   "display_name": "Python (en685648)"
  }
 },
 "nbformat": 4,
 "nbformat_minor": 2
}