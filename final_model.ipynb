{
 "cells": [
  {
   "cell_type": "code",
   "execution_count": 1,
   "metadata": {},
   "outputs": [],
   "source": [
    "import pandas as pd\n",
    "import numpy as np\n",
    "import matplotlib.pyplot as plt\n",
    "from sklearn.neural_network import MLPRegressor\n",
    "from sklearn.preprocessing import StandardScaler\n",
    "import itertools"
   ]
  },
  {
   "cell_type": "code",
   "execution_count": 110,
   "metadata": {},
   "outputs": [
    {
     "output_type": "execute_result",
     "data": {
      "text/plain": "   raceId                   race  year                         circuit  \\\n0     337     Bahrain Grand Prix  2010   Bahrain International Circuit   \n1     337     Bahrain Grand Prix  2010   Bahrain International Circuit   \n2     337     Bahrain Grand Prix  2010   Bahrain International Circuit   \n3     337     Bahrain Grand Prix  2010   Bahrain International Circuit   \n4     338  Australian Grand Prix  2010  Albert Park Grand Prix Circuit   \n\n  constructor driver  qualifyingPos  position  points teammate  \n0     Ferrari    ALO              3         1    25.0    OTHER  \n1     McLaren    HAM              4         3    15.0    OTHER  \n2    Red Bull    VET              1         4    12.0    OTHER  \n3    Williams    HUL             13        14     0.0    OTHER  \n4     Ferrari    ALO              3         4    12.0    OTHER  ",
      "text/html": "<div>\n<style scoped>\n    .dataframe tbody tr th:only-of-type {\n        vertical-align: middle;\n    }\n\n    .dataframe tbody tr th {\n        vertical-align: top;\n    }\n\n    .dataframe thead th {\n        text-align: right;\n    }\n</style>\n<table border=\"1\" class=\"dataframe\">\n  <thead>\n    <tr style=\"text-align: right;\">\n      <th></th>\n      <th>raceId</th>\n      <th>race</th>\n      <th>year</th>\n      <th>circuit</th>\n      <th>constructor</th>\n      <th>driver</th>\n      <th>qualifyingPos</th>\n      <th>position</th>\n      <th>points</th>\n      <th>teammate</th>\n    </tr>\n  </thead>\n  <tbody>\n    <tr>\n      <th>0</th>\n      <td>337</td>\n      <td>Bahrain Grand Prix</td>\n      <td>2010</td>\n      <td>Bahrain International Circuit</td>\n      <td>Ferrari</td>\n      <td>ALO</td>\n      <td>3</td>\n      <td>1</td>\n      <td>25.0</td>\n      <td>OTHER</td>\n    </tr>\n    <tr>\n      <th>1</th>\n      <td>337</td>\n      <td>Bahrain Grand Prix</td>\n      <td>2010</td>\n      <td>Bahrain International Circuit</td>\n      <td>McLaren</td>\n      <td>HAM</td>\n      <td>4</td>\n      <td>3</td>\n      <td>15.0</td>\n      <td>OTHER</td>\n    </tr>\n    <tr>\n      <th>2</th>\n      <td>337</td>\n      <td>Bahrain Grand Prix</td>\n      <td>2010</td>\n      <td>Bahrain International Circuit</td>\n      <td>Red Bull</td>\n      <td>VET</td>\n      <td>1</td>\n      <td>4</td>\n      <td>12.0</td>\n      <td>OTHER</td>\n    </tr>\n    <tr>\n      <th>3</th>\n      <td>337</td>\n      <td>Bahrain Grand Prix</td>\n      <td>2010</td>\n      <td>Bahrain International Circuit</td>\n      <td>Williams</td>\n      <td>HUL</td>\n      <td>13</td>\n      <td>14</td>\n      <td>0.0</td>\n      <td>OTHER</td>\n    </tr>\n    <tr>\n      <th>4</th>\n      <td>338</td>\n      <td>Australian Grand Prix</td>\n      <td>2010</td>\n      <td>Albert Park Grand Prix Circuit</td>\n      <td>Ferrari</td>\n      <td>ALO</td>\n      <td>3</td>\n      <td>4</td>\n      <td>12.0</td>\n      <td>OTHER</td>\n    </tr>\n  </tbody>\n</table>\n</div>"
     },
     "metadata": {},
     "execution_count": 110
    }
   ],
   "source": [
    "data_raw = pd.read_csv(\"f1_clean.csv\")\n",
    "data_raw.head()"
   ]
  },
  {
   "cell_type": "code",
   "execution_count": 111,
   "metadata": {},
   "outputs": [
    {
     "output_type": "execute_result",
     "data": {
      "text/plain": "      year                         circuit   constructor driver  \\\n0     2010   Bahrain International Circuit       Ferrari    ALO   \n1     2010   Bahrain International Circuit       McLaren    HAM   \n2     2010   Bahrain International Circuit      Red Bull    VET   \n3     2010   Bahrain International Circuit      Williams    HUL   \n4     2010  Albert Park Grand Prix Circuit       Ferrari    ALO   \n...    ...                             ...           ...    ...   \n2733  2023    Autódromo Hermanos Rodríguez    Alfa Romeo    BOT   \n2734  2023    Autódromo Hermanos Rodríguez  Aston Martin    STR   \n2735  2023    Autódromo Hermanos Rodríguez  Aston Martin    ALO   \n2736  2023    Autódromo Hermanos Rodríguez  Haas F1 Team    MAG   \n2737  2023    Autódromo Hermanos Rodríguez      Red Bull    PER   \n\n      qualifyingPos teammate  position  points  \n0                 3    OTHER         1    25.0  \n1                 4    OTHER         3    15.0  \n2                 1    OTHER         4    12.0  \n3                13    OTHER        14     0.0  \n4                 3    OTHER         4    12.0  \n...             ...      ...       ...     ...  \n2733              9      ZHO        15     0.0  \n2734              0      ALO        17     0.0  \n2735             13      STR         0     0.0  \n2736             16      HUL         0     0.0  \n2737              5      VER         0     0.0  \n\n[2738 rows x 8 columns]",
      "text/html": "<div>\n<style scoped>\n    .dataframe tbody tr th:only-of-type {\n        vertical-align: middle;\n    }\n\n    .dataframe tbody tr th {\n        vertical-align: top;\n    }\n\n    .dataframe thead th {\n        text-align: right;\n    }\n</style>\n<table border=\"1\" class=\"dataframe\">\n  <thead>\n    <tr style=\"text-align: right;\">\n      <th></th>\n      <th>year</th>\n      <th>circuit</th>\n      <th>constructor</th>\n      <th>driver</th>\n      <th>qualifyingPos</th>\n      <th>teammate</th>\n      <th>position</th>\n      <th>points</th>\n    </tr>\n  </thead>\n  <tbody>\n    <tr>\n      <th>0</th>\n      <td>2010</td>\n      <td>Bahrain International Circuit</td>\n      <td>Ferrari</td>\n      <td>ALO</td>\n      <td>3</td>\n      <td>OTHER</td>\n      <td>1</td>\n      <td>25.0</td>\n    </tr>\n    <tr>\n      <th>1</th>\n      <td>2010</td>\n      <td>Bahrain International Circuit</td>\n      <td>McLaren</td>\n      <td>HAM</td>\n      <td>4</td>\n      <td>OTHER</td>\n      <td>3</td>\n      <td>15.0</td>\n    </tr>\n    <tr>\n      <th>2</th>\n      <td>2010</td>\n      <td>Bahrain International Circuit</td>\n      <td>Red Bull</td>\n      <td>VET</td>\n      <td>1</td>\n      <td>OTHER</td>\n      <td>4</td>\n      <td>12.0</td>\n    </tr>\n    <tr>\n      <th>3</th>\n      <td>2010</td>\n      <td>Bahrain International Circuit</td>\n      <td>Williams</td>\n      <td>HUL</td>\n      <td>13</td>\n      <td>OTHER</td>\n      <td>14</td>\n      <td>0.0</td>\n    </tr>\n    <tr>\n      <th>4</th>\n      <td>2010</td>\n      <td>Albert Park Grand Prix Circuit</td>\n      <td>Ferrari</td>\n      <td>ALO</td>\n      <td>3</td>\n      <td>OTHER</td>\n      <td>4</td>\n      <td>12.0</td>\n    </tr>\n    <tr>\n      <th>...</th>\n      <td>...</td>\n      <td>...</td>\n      <td>...</td>\n      <td>...</td>\n      <td>...</td>\n      <td>...</td>\n      <td>...</td>\n      <td>...</td>\n    </tr>\n    <tr>\n      <th>2733</th>\n      <td>2023</td>\n      <td>Autódromo Hermanos Rodríguez</td>\n      <td>Alfa Romeo</td>\n      <td>BOT</td>\n      <td>9</td>\n      <td>ZHO</td>\n      <td>15</td>\n      <td>0.0</td>\n    </tr>\n    <tr>\n      <th>2734</th>\n      <td>2023</td>\n      <td>Autódromo Hermanos Rodríguez</td>\n      <td>Aston Martin</td>\n      <td>STR</td>\n      <td>0</td>\n      <td>ALO</td>\n      <td>17</td>\n      <td>0.0</td>\n    </tr>\n    <tr>\n      <th>2735</th>\n      <td>2023</td>\n      <td>Autódromo Hermanos Rodríguez</td>\n      <td>Aston Martin</td>\n      <td>ALO</td>\n      <td>13</td>\n      <td>STR</td>\n      <td>0</td>\n      <td>0.0</td>\n    </tr>\n    <tr>\n      <th>2736</th>\n      <td>2023</td>\n      <td>Autódromo Hermanos Rodríguez</td>\n      <td>Haas F1 Team</td>\n      <td>MAG</td>\n      <td>16</td>\n      <td>HUL</td>\n      <td>0</td>\n      <td>0.0</td>\n    </tr>\n    <tr>\n      <th>2737</th>\n      <td>2023</td>\n      <td>Autódromo Hermanos Rodríguez</td>\n      <td>Red Bull</td>\n      <td>PER</td>\n      <td>5</td>\n      <td>VER</td>\n      <td>0</td>\n      <td>0.0</td>\n    </tr>\n  </tbody>\n</table>\n<p>2738 rows × 8 columns</p>\n</div>"
     },
     "metadata": {},
     "execution_count": 111
    }
   ],
   "source": [
    "data_train = data_raw[[\"year\", \"circuit\", \"constructor\", \"driver\", \"qualifyingPos\", \"teammate\", \"position\", \"points\"]]\n",
    "data_train"
   ]
  },
  {
   "cell_type": "code",
   "execution_count": 112,
   "metadata": {},
   "outputs": [],
   "source": [
    "def standard_scaler_scale(data):\n",
    "    return (data - data.mean()) / data.std()\n",
    "\n",
    "def standard_scaler_unscale(data, mean, std):\n",
    "    return data * std + mean"
   ]
  },
  {
   "cell_type": "code",
   "execution_count": 113,
   "metadata": {},
   "outputs": [
    {
     "output_type": "execute_result",
     "data": {
      "text/plain": "(array([ 1., 22., 27., 17., 19., 19., 20., 18., 20., 17., 14., 18., 14.,\n         9., 14.,  8., 10.,  5.,  2.,  2.]),\n array([-1.,  0.,  1.,  2.,  3.,  4.,  5.,  6.,  7.,  8.,  9., 10., 11.,\n        12., 13., 14., 15., 16., 17., 18., 19.]),\n <BarContainer object of 20 artists>)"
     },
     "metadata": {},
     "execution_count": 113
    },
    {
     "output_type": "display_data",
     "data": {
      "text/plain": "<Figure size 640x480 with 1 Axes>",
      "image/svg+xml": "<?xml version=\"1.0\" encoding=\"utf-8\" standalone=\"no\"?>\n<!DOCTYPE svg PUBLIC \"-//W3C//DTD SVG 1.1//EN\"\n  \"http://www.w3.org/Graphics/SVG/1.1/DTD/svg11.dtd\">\n<svg xmlns:xlink=\"http://www.w3.org/1999/xlink\" width=\"391.245pt\" height=\"297.190125pt\" viewBox=\"0 0 391.245 297.190125\" xmlns=\"http://www.w3.org/2000/svg\" version=\"1.1\">\n <metadata>\n  <rdf:RDF xmlns:dc=\"http://purl.org/dc/elements/1.1/\" xmlns:cc=\"http://creativecommons.org/ns#\" xmlns:rdf=\"http://www.w3.org/1999/02/22-rdf-syntax-ns#\">\n   <cc:Work>\n    <dc:type rdf:resource=\"http://purl.org/dc/dcmitype/StillImage\"/>\n    <dc:date>2023-12-03T01:10:01.440611</dc:date>\n    <dc:format>image/svg+xml</dc:format>\n    <dc:creator>\n     <cc:Agent>\n      <dc:title>Matplotlib v3.6.2, https://matplotlib.org/</dc:title>\n     </cc:Agent>\n    </dc:creator>\n   </cc:Work>\n  </rdf:RDF>\n </metadata>\n <defs>\n  <style type=\"text/css\">*{stroke-linejoin: round; stroke-linecap: butt}</style>\n </defs>\n <g id=\"figure_1\">\n  <g id=\"patch_1\">\n   <path d=\"M 0 297.190125 \nL 391.245 297.190125 \nL 391.245 0 \nL 0 0 \nz\n\" style=\"fill: #ffffff\"/>\n  </g>\n  <g id=\"axes_1\">\n   <g id=\"patch_2\">\n    <path d=\"M 26.925 273.312 \nL 384.045 273.312 \nL 384.045 7.2 \nL 26.925 7.2 \nz\n\" style=\"fill: #ffffff\"/>\n   </g>\n   <g id=\"patch_3\">\n    <path d=\"M 43.157727 273.312 \nL 46.109132 273.312 \nL 46.109132 263.925333 \nL 43.157727 263.925333 \nz\n\" clip-path=\"url(#p6759c20e65)\" style=\"fill: #ff7f0e\"/>\n   </g>\n   <g id=\"patch_4\">\n    <path d=\"M 46.109132 273.312 \nL 49.060537 273.312 \nL 49.060537 66.805333 \nL 46.109132 66.805333 \nz\n\" clip-path=\"url(#p6759c20e65)\" style=\"fill: #ff7f0e\"/>\n   </g>\n   <g id=\"patch_5\">\n    <path d=\"M 49.060537 273.312 \nL 52.011942 273.312 \nL 52.011942 19.872 \nL 49.060537 19.872 \nz\n\" clip-path=\"url(#p6759c20e65)\" style=\"fill: #ff7f0e\"/>\n   </g>\n   <g id=\"patch_6\">\n    <path d=\"M 52.011942 273.312 \nL 54.963347 273.312 \nL 54.963347 113.738667 \nL 52.011942 113.738667 \nz\n\" clip-path=\"url(#p6759c20e65)\" style=\"fill: #ff7f0e\"/>\n   </g>\n   <g id=\"patch_7\">\n    <path d=\"M 54.963347 273.312 \nL 57.914752 273.312 \nL 57.914752 94.965333 \nL 54.963347 94.965333 \nz\n\" clip-path=\"url(#p6759c20e65)\" style=\"fill: #ff7f0e\"/>\n   </g>\n   <g id=\"patch_8\">\n    <path d=\"M 57.914752 273.312 \nL 60.866157 273.312 \nL 60.866157 94.965333 \nL 57.914752 94.965333 \nz\n\" clip-path=\"url(#p6759c20e65)\" style=\"fill: #ff7f0e\"/>\n   </g>\n   <g id=\"patch_9\">\n    <path d=\"M 60.866157 273.312 \nL 63.817562 273.312 \nL 63.817562 85.578667 \nL 60.866157 85.578667 \nz\n\" clip-path=\"url(#p6759c20e65)\" style=\"fill: #ff7f0e\"/>\n   </g>\n   <g id=\"patch_10\">\n    <path d=\"M 63.817562 273.312 \nL 66.768967 273.312 \nL 66.768967 104.352 \nL 63.817562 104.352 \nz\n\" clip-path=\"url(#p6759c20e65)\" style=\"fill: #ff7f0e\"/>\n   </g>\n   <g id=\"patch_11\">\n    <path d=\"M 66.768967 273.312 \nL 69.720372 273.312 \nL 69.720372 85.578667 \nL 66.768967 85.578667 \nz\n\" clip-path=\"url(#p6759c20e65)\" style=\"fill: #ff7f0e\"/>\n   </g>\n   <g id=\"patch_12\">\n    <path d=\"M 69.720372 273.312 \nL 72.671777 273.312 \nL 72.671777 113.738667 \nL 69.720372 113.738667 \nz\n\" clip-path=\"url(#p6759c20e65)\" style=\"fill: #ff7f0e\"/>\n   </g>\n   <g id=\"patch_13\">\n    <path d=\"M 72.671777 273.312 \nL 75.623182 273.312 \nL 75.623182 141.898667 \nL 72.671777 141.898667 \nz\n\" clip-path=\"url(#p6759c20e65)\" style=\"fill: #ff7f0e\"/>\n   </g>\n   <g id=\"patch_14\">\n    <path d=\"M 75.623182 273.312 \nL 78.574587 273.312 \nL 78.574587 104.352 \nL 75.623182 104.352 \nz\n\" clip-path=\"url(#p6759c20e65)\" style=\"fill: #ff7f0e\"/>\n   </g>\n   <g id=\"patch_15\">\n    <path d=\"M 78.574587 273.312 \nL 81.525992 273.312 \nL 81.525992 141.898667 \nL 78.574587 141.898667 \nz\n\" clip-path=\"url(#p6759c20e65)\" style=\"fill: #ff7f0e\"/>\n   </g>\n   <g id=\"patch_16\">\n    <path d=\"M 81.525992 273.312 \nL 84.477397 273.312 \nL 84.477397 188.832 \nL 81.525992 188.832 \nz\n\" clip-path=\"url(#p6759c20e65)\" style=\"fill: #ff7f0e\"/>\n   </g>\n   <g id=\"patch_17\">\n    <path d=\"M 84.477397 273.312 \nL 87.428802 273.312 \nL 87.428802 141.898667 \nL 84.477397 141.898667 \nz\n\" clip-path=\"url(#p6759c20e65)\" style=\"fill: #ff7f0e\"/>\n   </g>\n   <g id=\"patch_18\">\n    <path d=\"M 87.428802 273.312 \nL 90.380207 273.312 \nL 90.380207 198.218667 \nL 87.428802 198.218667 \nz\n\" clip-path=\"url(#p6759c20e65)\" style=\"fill: #ff7f0e\"/>\n   </g>\n   <g id=\"patch_19\">\n    <path d=\"M 90.380207 273.312 \nL 93.331612 273.312 \nL 93.331612 179.445333 \nL 90.380207 179.445333 \nz\n\" clip-path=\"url(#p6759c20e65)\" style=\"fill: #ff7f0e\"/>\n   </g>\n   <g id=\"patch_20\">\n    <path d=\"M 93.331612 273.312 \nL 96.283017 273.312 \nL 96.283017 226.378667 \nL 93.331612 226.378667 \nz\n\" clip-path=\"url(#p6759c20e65)\" style=\"fill: #ff7f0e\"/>\n   </g>\n   <g id=\"patch_21\">\n    <path d=\"M 96.283017 273.312 \nL 99.234421 273.312 \nL 99.234421 254.538667 \nL 96.283017 254.538667 \nz\n\" clip-path=\"url(#p6759c20e65)\" style=\"fill: #ff7f0e\"/>\n   </g>\n   <g id=\"patch_22\">\n    <path d=\"M 99.234421 273.312 \nL 102.185826 273.312 \nL 102.185826 254.538667 \nL 99.234421 254.538667 \nz\n\" clip-path=\"url(#p6759c20e65)\" style=\"fill: #ff7f0e\"/>\n   </g>\n   <g id=\"matplotlib.axis_1\">\n    <g id=\"xtick_1\">\n     <g id=\"line2d_1\">\n      <defs>\n       <path id=\"m4eb340cf15\" d=\"M 0 0 \nL 0 3.5 \n\" style=\"stroke: #000000; stroke-width: 0.8\"/>\n      </defs>\n      <g>\n       <use xlink:href=\"#m4eb340cf15\" x=\"46.109132\" y=\"273.312\" style=\"stroke: #000000; stroke-width: 0.8\"/>\n      </g>\n     </g>\n     <g id=\"text_1\">\n      <!-- 0 -->\n      <g transform=\"translate(42.927882 287.910437) scale(0.1 -0.1)\">\n       <defs>\n        <path id=\"DejaVuSans-30\" d=\"M 2034 4250 \nQ 1547 4250 1301 3770 \nQ 1056 3291 1056 2328 \nQ 1056 1369 1301 889 \nQ 1547 409 2034 409 \nQ 2525 409 2770 889 \nQ 3016 1369 3016 2328 \nQ 3016 3291 2770 3770 \nQ 2525 4250 2034 4250 \nz\nM 2034 4750 \nQ 2819 4750 3233 4129 \nQ 3647 3509 3647 2328 \nQ 3647 1150 3233 529 \nQ 2819 -91 2034 -91 \nQ 1250 -91 836 529 \nQ 422 1150 422 2328 \nQ 422 3509 836 4129 \nQ 1250 4750 2034 4750 \nz\n\" transform=\"scale(0.015625)\"/>\n       </defs>\n       <use xlink:href=\"#DejaVuSans-30\"/>\n      </g>\n     </g>\n    </g>\n    <g id=\"xtick_2\">\n     <g id=\"line2d_2\">\n      <g>\n       <use xlink:href=\"#m4eb340cf15\" x=\"105.137231\" y=\"273.312\" style=\"stroke: #000000; stroke-width: 0.8\"/>\n      </g>\n     </g>\n     <g id=\"text_2\">\n      <!-- 20 -->\n      <g transform=\"translate(98.774731 287.910437) scale(0.1 -0.1)\">\n       <defs>\n        <path id=\"DejaVuSans-32\" d=\"M 1228 531 \nL 3431 531 \nL 3431 0 \nL 469 0 \nL 469 531 \nQ 828 903 1448 1529 \nQ 2069 2156 2228 2338 \nQ 2531 2678 2651 2914 \nQ 2772 3150 2772 3378 \nQ 2772 3750 2511 3984 \nQ 2250 4219 1831 4219 \nQ 1534 4219 1204 4116 \nQ 875 4013 500 3803 \nL 500 4441 \nQ 881 4594 1212 4672 \nQ 1544 4750 1819 4750 \nQ 2544 4750 2975 4387 \nQ 3406 4025 3406 3419 \nQ 3406 3131 3298 2873 \nQ 3191 2616 2906 2266 \nQ 2828 2175 2409 1742 \nQ 1991 1309 1228 531 \nz\n\" transform=\"scale(0.015625)\"/>\n       </defs>\n       <use xlink:href=\"#DejaVuSans-32\"/>\n       <use xlink:href=\"#DejaVuSans-30\" x=\"63.623047\"/>\n      </g>\n     </g>\n    </g>\n    <g id=\"xtick_3\">\n     <g id=\"line2d_3\">\n      <g>\n       <use xlink:href=\"#m4eb340cf15\" x=\"164.165331\" y=\"273.312\" style=\"stroke: #000000; stroke-width: 0.8\"/>\n      </g>\n     </g>\n     <g id=\"text_3\">\n      <!-- 40 -->\n      <g transform=\"translate(157.802831 287.910437) scale(0.1 -0.1)\">\n       <defs>\n        <path id=\"DejaVuSans-34\" d=\"M 2419 4116 \nL 825 1625 \nL 2419 1625 \nL 2419 4116 \nz\nM 2253 4666 \nL 3047 4666 \nL 3047 1625 \nL 3713 1625 \nL 3713 1100 \nL 3047 1100 \nL 3047 0 \nL 2419 0 \nL 2419 1100 \nL 313 1100 \nL 313 1709 \nL 2253 4666 \nz\n\" transform=\"scale(0.015625)\"/>\n       </defs>\n       <use xlink:href=\"#DejaVuSans-34\"/>\n       <use xlink:href=\"#DejaVuSans-30\" x=\"63.623047\"/>\n      </g>\n     </g>\n    </g>\n    <g id=\"xtick_4\">\n     <g id=\"line2d_4\">\n      <g>\n       <use xlink:href=\"#m4eb340cf15\" x=\"223.19343\" y=\"273.312\" style=\"stroke: #000000; stroke-width: 0.8\"/>\n      </g>\n     </g>\n     <g id=\"text_4\">\n      <!-- 60 -->\n      <g transform=\"translate(216.83093 287.910437) scale(0.1 -0.1)\">\n       <defs>\n        <path id=\"DejaVuSans-36\" d=\"M 2113 2584 \nQ 1688 2584 1439 2293 \nQ 1191 2003 1191 1497 \nQ 1191 994 1439 701 \nQ 1688 409 2113 409 \nQ 2538 409 2786 701 \nQ 3034 994 3034 1497 \nQ 3034 2003 2786 2293 \nQ 2538 2584 2113 2584 \nz\nM 3366 4563 \nL 3366 3988 \nQ 3128 4100 2886 4159 \nQ 2644 4219 2406 4219 \nQ 1781 4219 1451 3797 \nQ 1122 3375 1075 2522 \nQ 1259 2794 1537 2939 \nQ 1816 3084 2150 3084 \nQ 2853 3084 3261 2657 \nQ 3669 2231 3669 1497 \nQ 3669 778 3244 343 \nQ 2819 -91 2113 -91 \nQ 1303 -91 875 529 \nQ 447 1150 447 2328 \nQ 447 3434 972 4092 \nQ 1497 4750 2381 4750 \nQ 2619 4750 2861 4703 \nQ 3103 4656 3366 4563 \nz\n\" transform=\"scale(0.015625)\"/>\n       </defs>\n       <use xlink:href=\"#DejaVuSans-36\"/>\n       <use xlink:href=\"#DejaVuSans-30\" x=\"63.623047\"/>\n      </g>\n     </g>\n    </g>\n    <g id=\"xtick_5\">\n     <g id=\"line2d_5\">\n      <g>\n       <use xlink:href=\"#m4eb340cf15\" x=\"282.221529\" y=\"273.312\" style=\"stroke: #000000; stroke-width: 0.8\"/>\n      </g>\n     </g>\n     <g id=\"text_5\">\n      <!-- 80 -->\n      <g transform=\"translate(275.859029 287.910437) scale(0.1 -0.1)\">\n       <defs>\n        <path id=\"DejaVuSans-38\" d=\"M 2034 2216 \nQ 1584 2216 1326 1975 \nQ 1069 1734 1069 1313 \nQ 1069 891 1326 650 \nQ 1584 409 2034 409 \nQ 2484 409 2743 651 \nQ 3003 894 3003 1313 \nQ 3003 1734 2745 1975 \nQ 2488 2216 2034 2216 \nz\nM 1403 2484 \nQ 997 2584 770 2862 \nQ 544 3141 544 3541 \nQ 544 4100 942 4425 \nQ 1341 4750 2034 4750 \nQ 2731 4750 3128 4425 \nQ 3525 4100 3525 3541 \nQ 3525 3141 3298 2862 \nQ 3072 2584 2669 2484 \nQ 3125 2378 3379 2068 \nQ 3634 1759 3634 1313 \nQ 3634 634 3220 271 \nQ 2806 -91 2034 -91 \nQ 1263 -91 848 271 \nQ 434 634 434 1313 \nQ 434 1759 690 2068 \nQ 947 2378 1403 2484 \nz\nM 1172 3481 \nQ 1172 3119 1398 2916 \nQ 1625 2713 2034 2713 \nQ 2441 2713 2670 2916 \nQ 2900 3119 2900 3481 \nQ 2900 3844 2670 4047 \nQ 2441 4250 2034 4250 \nQ 1625 4250 1398 4047 \nQ 1172 3844 1172 3481 \nz\n\" transform=\"scale(0.015625)\"/>\n       </defs>\n       <use xlink:href=\"#DejaVuSans-38\"/>\n       <use xlink:href=\"#DejaVuSans-30\" x=\"63.623047\"/>\n      </g>\n     </g>\n    </g>\n    <g id=\"xtick_6\">\n     <g id=\"line2d_6\">\n      <g>\n       <use xlink:href=\"#m4eb340cf15\" x=\"341.249628\" y=\"273.312\" style=\"stroke: #000000; stroke-width: 0.8\"/>\n      </g>\n     </g>\n     <g id=\"text_6\">\n      <!-- 100 -->\n      <g transform=\"translate(331.705878 287.910437) scale(0.1 -0.1)\">\n       <defs>\n        <path id=\"DejaVuSans-31\" d=\"M 794 531 \nL 1825 531 \nL 1825 4091 \nL 703 3866 \nL 703 4441 \nL 1819 4666 \nL 2450 4666 \nL 2450 531 \nL 3481 531 \nL 3481 0 \nL 794 0 \nL 794 531 \nz\n\" transform=\"scale(0.015625)\"/>\n       </defs>\n       <use xlink:href=\"#DejaVuSans-31\"/>\n       <use xlink:href=\"#DejaVuSans-30\" x=\"63.623047\"/>\n       <use xlink:href=\"#DejaVuSans-30\" x=\"127.246094\"/>\n      </g>\n     </g>\n    </g>\n   </g>\n   <g id=\"matplotlib.axis_2\">\n    <g id=\"ytick_1\">\n     <g id=\"line2d_7\">\n      <defs>\n       <path id=\"mdb99c0b136\" d=\"M 0 0 \nL -3.5 0 \n\" style=\"stroke: #000000; stroke-width: 0.8\"/>\n      </defs>\n      <g>\n       <use xlink:href=\"#mdb99c0b136\" x=\"26.925\" y=\"273.312\" style=\"stroke: #000000; stroke-width: 0.8\"/>\n      </g>\n     </g>\n     <g id=\"text_7\">\n      <!-- 0 -->\n      <g transform=\"translate(13.5625 277.111219) scale(0.1 -0.1)\">\n       <use xlink:href=\"#DejaVuSans-30\"/>\n      </g>\n     </g>\n    </g>\n    <g id=\"ytick_2\">\n     <g id=\"line2d_8\">\n      <g>\n       <use xlink:href=\"#mdb99c0b136\" x=\"26.925\" y=\"226.378667\" style=\"stroke: #000000; stroke-width: 0.8\"/>\n      </g>\n     </g>\n     <g id=\"text_8\">\n      <!-- 5 -->\n      <g transform=\"translate(13.5625 230.177885) scale(0.1 -0.1)\">\n       <defs>\n        <path id=\"DejaVuSans-35\" d=\"M 691 4666 \nL 3169 4666 \nL 3169 4134 \nL 1269 4134 \nL 1269 2991 \nQ 1406 3038 1543 3061 \nQ 1681 3084 1819 3084 \nQ 2600 3084 3056 2656 \nQ 3513 2228 3513 1497 \nQ 3513 744 3044 326 \nQ 2575 -91 1722 -91 \nQ 1428 -91 1123 -41 \nQ 819 9 494 109 \nL 494 744 \nQ 775 591 1075 516 \nQ 1375 441 1709 441 \nQ 2250 441 2565 725 \nQ 2881 1009 2881 1497 \nQ 2881 1984 2565 2268 \nQ 2250 2553 1709 2553 \nQ 1456 2553 1204 2497 \nQ 953 2441 691 2322 \nL 691 4666 \nz\n\" transform=\"scale(0.015625)\"/>\n       </defs>\n       <use xlink:href=\"#DejaVuSans-35\"/>\n      </g>\n     </g>\n    </g>\n    <g id=\"ytick_3\">\n     <g id=\"line2d_9\">\n      <g>\n       <use xlink:href=\"#mdb99c0b136\" x=\"26.925\" y=\"179.445333\" style=\"stroke: #000000; stroke-width: 0.8\"/>\n      </g>\n     </g>\n     <g id=\"text_9\">\n      <!-- 10 -->\n      <g transform=\"translate(7.2 183.244552) scale(0.1 -0.1)\">\n       <use xlink:href=\"#DejaVuSans-31\"/>\n       <use xlink:href=\"#DejaVuSans-30\" x=\"63.623047\"/>\n      </g>\n     </g>\n    </g>\n    <g id=\"ytick_4\">\n     <g id=\"line2d_10\">\n      <g>\n       <use xlink:href=\"#mdb99c0b136\" x=\"26.925\" y=\"132.512\" style=\"stroke: #000000; stroke-width: 0.8\"/>\n      </g>\n     </g>\n     <g id=\"text_10\">\n      <!-- 15 -->\n      <g transform=\"translate(7.2 136.311219) scale(0.1 -0.1)\">\n       <use xlink:href=\"#DejaVuSans-31\"/>\n       <use xlink:href=\"#DejaVuSans-35\" x=\"63.623047\"/>\n      </g>\n     </g>\n    </g>\n    <g id=\"ytick_5\">\n     <g id=\"line2d_11\">\n      <g>\n       <use xlink:href=\"#mdb99c0b136\" x=\"26.925\" y=\"85.578667\" style=\"stroke: #000000; stroke-width: 0.8\"/>\n      </g>\n     </g>\n     <g id=\"text_11\">\n      <!-- 20 -->\n      <g transform=\"translate(7.2 89.377885) scale(0.1 -0.1)\">\n       <use xlink:href=\"#DejaVuSans-32\"/>\n       <use xlink:href=\"#DejaVuSans-30\" x=\"63.623047\"/>\n      </g>\n     </g>\n    </g>\n    <g id=\"ytick_6\">\n     <g id=\"line2d_12\">\n      <g>\n       <use xlink:href=\"#mdb99c0b136\" x=\"26.925\" y=\"38.645333\" style=\"stroke: #000000; stroke-width: 0.8\"/>\n      </g>\n     </g>\n     <g id=\"text_12\">\n      <!-- 25 -->\n      <g transform=\"translate(7.2 42.444552) scale(0.1 -0.1)\">\n       <use xlink:href=\"#DejaVuSans-32\"/>\n       <use xlink:href=\"#DejaVuSans-35\" x=\"63.623047\"/>\n      </g>\n     </g>\n    </g>\n   </g>\n   <g id=\"line2d_13\">\n    <path d=\"M 46.109132 269.45319 \nL 49.060537 269.964904 \nL 52.011942 270.137655 \nL 54.963347 270.277225 \nL 57.914752 270.416745 \nL 60.866157 270.552836 \nL 63.817562 270.727652 \nL 66.768967 270.933357 \nL 69.720372 271.010089 \nL 72.671777 271.167477 \nL 75.623182 271.446317 \nL 78.574587 271.535145 \nL 81.525992 271.658995 \nL 84.477397 271.804323 \nL 87.428802 271.909092 \nL 90.380207 271.959032 \nL 93.331612 272.05943 \nL 96.283017 272.093656 \nL 99.234421 272.146517 \nL 102.185826 272.187943 \nL 105.137231 272.243874 \nL 108.088636 272.224726 \nL 111.040041 272.250376 \nL 113.991446 272.35391 \nL 116.942851 272.382607 \nL 119.894256 272.423728 \nL 122.845661 272.440958 \nL 125.797066 272.423552 \nL 128.748471 272.478194 \nL 131.699876 272.514247 \nL 134.651281 272.448269 \nL 137.602686 272.433284 \nL 140.554091 272.436092 \nL 143.505496 272.485077 \nL 146.456901 272.555541 \nL 149.408306 272.583063 \nL 152.359711 272.589007 \nL 155.311116 272.63177 \nL 158.262521 272.631022 \nL 161.213926 272.629134 \nL 164.165331 272.627362 \nL 167.116736 272.632268 \nL 170.06814 272.613467 \nL 173.019545 272.520827 \nL 175.97095 272.600902 \nL 178.922355 272.643174 \nL 181.87376 272.631233 \nL 184.825165 272.671159 \nL 187.77657 272.685001 \nL 190.727975 272.709125 \nL 193.67938 272.694803 \nL 196.630785 272.687876 \nL 199.58219 272.693728 \nL 202.533595 272.658136 \nL 205.485 272.687211 \nL 208.436405 272.719173 \nL 211.38781 272.721879 \nL 214.339215 272.757619 \nL 217.29062 272.76196 \nL 220.242025 272.743205 \nL 223.19343 272.741587 \nL 226.144835 272.724116 \nL 229.09624 272.749926 \nL 232.047645 272.765406 \nL 234.99905 272.740521 \nL 237.950455 272.773577 \nL 240.90186 272.775868 \nL 243.853264 272.772539 \nL 246.804669 272.775911 \nL 249.756074 272.779939 \nL 252.707479 272.76184 \nL 255.658884 272.741083 \nL 258.610289 272.76311 \nL 261.561694 272.803488 \nL 264.513099 272.81409 \nL 267.464504 272.825309 \nL 270.415909 272.811404 \nL 273.367314 272.822532 \nL 276.318719 272.834406 \nL 279.270124 272.851987 \nL 282.221529 272.827931 \nL 285.172934 272.822664 \nL 288.124339 272.801289 \nL 291.075744 272.825656 \nL 294.027149 272.838653 \nL 296.978554 272.84818 \nL 299.929959 272.852016 \nL 302.881364 272.820834 \nL 305.832769 272.857243 \nL 308.784174 272.844436 \nL 311.735579 272.800278 \nL 314.686983 272.798504 \nL 317.638388 272.809445 \nL 320.589793 272.825908 \nL 323.541198 272.837077 \nL 326.492603 272.883638 \nL 329.444008 272.889603 \nL 332.395413 272.891974 \nL 335.346818 272.893236 \nL 338.298223 272.884623 \nL 341.249628 272.861202 \nL 344.201033 272.855467 \nL 347.152438 272.850589 \nL 350.103843 272.868113 \nL 353.055248 272.87689 \nL 356.006653 272.81142 \nL 358.958058 272.795804 \nL 361.909463 272.850189 \nL 364.860868 272.836613 \nL 367.812273 272.859194 \n\" clip-path=\"url(#p6759c20e65)\" style=\"fill: none; stroke: #1f77b4; stroke-width: 1.5; stroke-linecap: square\"/>\n   </g>\n   <g id=\"patch_23\">\n    <path d=\"M 26.925 273.312 \nL 26.925 7.2 \n\" style=\"fill: none; stroke: #000000; stroke-width: 0.8; stroke-linejoin: miter; stroke-linecap: square\"/>\n   </g>\n   <g id=\"patch_24\">\n    <path d=\"M 384.045 273.312 \nL 384.045 7.2 \n\" style=\"fill: none; stroke: #000000; stroke-width: 0.8; stroke-linejoin: miter; stroke-linecap: square\"/>\n   </g>\n   <g id=\"patch_25\">\n    <path d=\"M 26.925 273.312 \nL 384.045 273.312 \n\" style=\"fill: none; stroke: #000000; stroke-width: 0.8; stroke-linejoin: miter; stroke-linecap: square\"/>\n   </g>\n   <g id=\"patch_26\">\n    <path d=\"M 26.925 7.2 \nL 384.045 7.2 \n\" style=\"fill: none; stroke: #000000; stroke-width: 0.8; stroke-linejoin: miter; stroke-linecap: square\"/>\n   </g>\n  </g>\n </g>\n <defs>\n  <clipPath id=\"p6759c20e65\">\n   <rect x=\"26.925\" y=\"7.2\" width=\"357.12\" height=\"266.112\"/>\n  </clipPath>\n </defs>\n</svg>\n",
      "image/png": "[encoded data removed]"
     },
     "metadata": {}
    }
   ],
   "source": [
    "one_hot_encoded_data = pd.get_dummies(data_train, columns = ['circuit', 'constructor', 'driver', 'teammate'])\n",
    "data_train_scaled = one_hot_encoded_data.copy()\n",
    "data_train_scaled.qualifyingPos = standard_scaler_scale(one_hot_encoded_data.qualifyingPos)\n",
    "data_train_scaled.position = standard_scaler_scale(one_hot_encoded_data.position)\n",
    "\n",
    "train_set = data_train_scaled[data_train_scaled.year != 2023]\n",
    "test_set = data_train_scaled[data_train_scaled.year == 2023]\n",
    "\n",
    "X_train = train_set.drop(['position', 'year', 'points'],axis = 1)\n",
    "y_train = train_set['position']\n",
    "\n",
    "regr = MLPRegressor(\n",
    "    hidden_layer_sizes=(500, 250, 100, 50), \n",
    "    max_iter=500,\n",
    "    random_state=203043043\n",
    "    ).fit(X_train, y_train)\n",
    "\n",
    "plt.plot(regr.loss_curve_)\n",
    "\n",
    "X_test = test_set.drop(['position', 'year', 'points'],axis = 1)\n",
    "y_test = test_set.position\n",
    "\n",
    "pred = regr.predict(X_test)\n",
    "# resid = abs(y_test - pred)\n",
    "\n",
    "pred_unscaled = standard_scaler_unscale(pred, \n",
    "                                        one_hot_encoded_data.position.mean(), \n",
    "                                        one_hot_encoded_data.position.std()).astype(np.int32)\n",
    "y_test_unscaled = standard_scaler_unscale(y_test, \n",
    "                                        one_hot_encoded_data.position.mean(), \n",
    "                                        one_hot_encoded_data.position.std()).astype(np.int32)\n",
    "plt.hist(pred_unscaled, bins = 20)\n",
    "# plt.hist(y_test_unscaled, bins = 20)\n",
    "# plt.hist((pred_unscaled - y_test_unscaled), bins = 30)"
   ]
  },
  {
   "cell_type": "code",
   "execution_count": 114,
   "metadata": {},
   "outputs": [
    {
     "output_type": "execute_result",
     "data": {
      "text/plain": "3.7681159420289854"
     },
     "metadata": {},
     "execution_count": 114
    }
   ],
   "source": [
    "np.mean(abs(y_test_unscaled - pred_unscaled))"
   ]
  },
  {
   "cell_type": "code",
   "execution_count": 115,
   "metadata": {},
   "outputs": [
    {
     "output_type": "execute_result",
     "data": {
      "text/plain": "25.956521739130434"
     },
     "metadata": {},
     "execution_count": 115
    }
   ],
   "source": [
    "sum((y_test_unscaled - pred_unscaled)**2) / len(y_test_unscaled)"
   ]
  },
  {
   "cell_type": "markdown",
   "metadata": {},
   "source": [
    "## test the original model w/ permuted data"
   ]
  },
  {
   "cell_type": "code",
   "execution_count": 116,
   "metadata": {},
   "outputs": [],
   "source": [
    "import itertools\n",
    " \n",
    "\n",
    "circuits = data_train.circuit.unique()\n",
    "drivers = data_train.driver.unique()\n",
    "teammates = data_train.teammate.unique()\n",
    "constructors = data_train.constructor.unique()\n",
    "# qualifying_positions = data_train.qualifyingPos.unique()\n",
    "qualifying_positions = [1, 2, 3, 4, 5, 6, 7, 8, 9, 10, 11, 12, 13, 14, 15, 16, 17, 18, 19, 20]\n",
    "all_list = [circuits, drivers, partners, qualifying_positions, constructors]\n",
    " \n",
    "res = list(itertools.product(*all_list))\n",
    "\n"
   ]
  },
  {
   "cell_type": "code",
   "execution_count": null,
   "metadata": {},
   "outputs": [],
   "source": []
  },
  {
   "cell_type": "code",
   "execution_count": 117,
   "metadata": {},
   "outputs": [],
   "source": [
    "current_circuits = data_train.loc[data_train['year'] == 2023]['circuit'].unique()\n",
    "current_drivers = data_train.loc[data_train['year'] == 2023]['driver'].unique()\n",
    "\n",
    "current_teammates = data_train.loc[data_train['year'] == 2023]['teammate'].unique()\n",
    "current_constructors = data_train.loc[data_train['year'] == 2023]['constructor'].unique()\n",
    "\n"
   ]
  },
  {
   "cell_type": "code",
   "execution_count": 118,
   "metadata": {},
   "outputs": [
    {
     "output_type": "execute_result",
     "data": {
      "text/plain": "                               circuit driver teammate  qualifyingPos  \\\n0        Bahrain International Circuit    ALO    OTHER              1   \n1        Bahrain International Circuit    ALO    OTHER              1   \n2        Bahrain International Circuit    ALO    OTHER              1   \n3        Bahrain International Circuit    ALO    OTHER              1   \n4        Bahrain International Circuit    ALO    OTHER              1   \n...                                ...    ...      ...            ...   \n1755395        Jeddah Corniche Circuit    ZHO      TSU             20   \n1755396        Jeddah Corniche Circuit    ZHO      TSU             20   \n1755397        Jeddah Corniche Circuit    ZHO      TSU             20   \n1755398        Jeddah Corniche Circuit    ZHO      TSU             20   \n1755399        Jeddah Corniche Circuit    ZHO      TSU             20   \n\n            constructor  \n0               Ferrari  \n1               McLaren  \n2              Red Bull  \n3              Williams  \n4            Alfa Romeo  \n...                 ...  \n1755395  Alpine F1 Team  \n1755396      AlphaTauri  \n1755397    Aston Martin  \n1755398        Mercedes  \n1755399    Haas F1 Team  \n\n[1675800 rows x 5 columns]",
      "text/html": "<div>\n<style scoped>\n    .dataframe tbody tr th:only-of-type {\n        vertical-align: middle;\n    }\n\n    .dataframe tbody tr th {\n        vertical-align: top;\n    }\n\n    .dataframe thead th {\n        text-align: right;\n    }\n</style>\n<table border=\"1\" class=\"dataframe\">\n  <thead>\n    <tr style=\"text-align: right;\">\n      <th></th>\n      <th>circuit</th>\n      <th>driver</th>\n      <th>teammate</th>\n      <th>qualifyingPos</th>\n      <th>constructor</th>\n    </tr>\n  </thead>\n  <tbody>\n    <tr>\n      <th>0</th>\n      <td>Bahrain International Circuit</td>\n      <td>ALO</td>\n      <td>OTHER</td>\n      <td>1</td>\n      <td>Ferrari</td>\n    </tr>\n    <tr>\n      <th>1</th>\n      <td>Bahrain International Circuit</td>\n      <td>ALO</td>\n      <td>OTHER</td>\n      <td>1</td>\n      <td>McLaren</td>\n    </tr>\n    <tr>\n      <th>2</th>\n      <td>Bahrain International Circuit</td>\n      <td>ALO</td>\n      <td>OTHER</td>\n      <td>1</td>\n      <td>Red Bull</td>\n    </tr>\n    <tr>\n      <th>3</th>\n      <td>Bahrain International Circuit</td>\n      <td>ALO</td>\n      <td>OTHER</td>\n      <td>1</td>\n      <td>Williams</td>\n    </tr>\n    <tr>\n      <th>4</th>\n      <td>Bahrain International Circuit</td>\n      <td>ALO</td>\n      <td>OTHER</td>\n      <td>1</td>\n      <td>Alfa Romeo</td>\n    </tr>\n    <tr>\n      <th>...</th>\n      <td>...</td>\n      <td>...</td>\n      <td>...</td>\n      <td>...</td>\n      <td>...</td>\n    </tr>\n    <tr>\n      <th>1755395</th>\n      <td>Jeddah Corniche Circuit</td>\n      <td>ZHO</td>\n      <td>TSU</td>\n      <td>20</td>\n      <td>Alpine F1 Team</td>\n    </tr>\n    <tr>\n      <th>1755396</th>\n      <td>Jeddah Corniche Circuit</td>\n      <td>ZHO</td>\n      <td>TSU</td>\n      <td>20</td>\n      <td>AlphaTauri</td>\n    </tr>\n    <tr>\n      <th>1755397</th>\n      <td>Jeddah Corniche Circuit</td>\n      <td>ZHO</td>\n      <td>TSU</td>\n      <td>20</td>\n      <td>Aston Martin</td>\n    </tr>\n    <tr>\n      <th>1755398</th>\n      <td>Jeddah Corniche Circuit</td>\n      <td>ZHO</td>\n      <td>TSU</td>\n      <td>20</td>\n      <td>Mercedes</td>\n    </tr>\n    <tr>\n      <th>1755399</th>\n      <td>Jeddah Corniche Circuit</td>\n      <td>ZHO</td>\n      <td>TSU</td>\n      <td>20</td>\n      <td>Haas F1 Team</td>\n    </tr>\n  </tbody>\n</table>\n<p>1675800 rows × 5 columns</p>\n</div>"
     },
     "metadata": {},
     "execution_count": 118
    }
   ],
   "source": [
    "all_permutations = pd.DataFrame(res, columns=['circuit', 'driver', 'teammate', 'qualifyingPos', 'constructor'])\n",
    "cleaned_permutations = all_permutations.loc[all_permutations['driver'] != all_permutations['teammate']]\n",
    "cleaned_permutations"
   ]
  },
  {
   "cell_type": "code",
   "execution_count": 119,
   "metadata": {},
   "outputs": [
    {
     "output_type": "execute_result",
     "data": {
      "text/plain": "                           circuit  percentDnf\n0   Albert Park Grand Prix Circuit    0.250000\n1    Autodromo Enzo e Dino Ferrari    0.176471\n2     Autodromo Nazionale di Monza    0.135294\n3     Autódromo Hermanos Rodríguez    0.138211\n4       Autódromo José Carlos Pace    0.136691\n5    Bahrain International Circuit    0.131148\n6                Baku City Circuit    0.209091\n7        Circuit Gilles Villeneuve    0.107914\n8   Circuit de Barcelona-Catalunya    0.115607\n9                Circuit de Monaco    0.154839\n10    Circuit de Spa-Francorchamps    0.166667\n11         Circuit of the Americas    0.195946\n12                     Hungaroring    0.132184\n13         Jeddah Corniche Circuit    0.176471\n14       Marina Bay Street Circuit    0.207143\n15                   Red Bull Ring    0.165746\n16             Silverstone Circuit    0.152632\n17                  Suzuka Circuit    0.148936\n18              Yas Marina Circuit    0.121795",
      "text/html": "<div>\n<style scoped>\n    .dataframe tbody tr th:only-of-type {\n        vertical-align: middle;\n    }\n\n    .dataframe tbody tr th {\n        vertical-align: top;\n    }\n\n    .dataframe thead th {\n        text-align: right;\n    }\n</style>\n<table border=\"1\" class=\"dataframe\">\n  <thead>\n    <tr style=\"text-align: right;\">\n      <th></th>\n      <th>circuit</th>\n      <th>percentDnf</th>\n    </tr>\n  </thead>\n  <tbody>\n    <tr>\n      <th>0</th>\n      <td>Albert Park Grand Prix Circuit</td>\n      <td>0.250000</td>\n    </tr>\n    <tr>\n      <th>1</th>\n      <td>Autodromo Enzo e Dino Ferrari</td>\n      <td>0.176471</td>\n    </tr>\n    <tr>\n      <th>2</th>\n      <td>Autodromo Nazionale di Monza</td>\n      <td>0.135294</td>\n    </tr>\n    <tr>\n      <th>3</th>\n      <td>Autódromo Hermanos Rodríguez</td>\n      <td>0.138211</td>\n    </tr>\n    <tr>\n      <th>4</th>\n      <td>Autódromo José Carlos Pace</td>\n      <td>0.136691</td>\n    </tr>\n    <tr>\n      <th>5</th>\n      <td>Bahrain International Circuit</td>\n      <td>0.131148</td>\n    </tr>\n    <tr>\n      <th>6</th>\n      <td>Baku City Circuit</td>\n      <td>0.209091</td>\n    </tr>\n    <tr>\n      <th>7</th>\n      <td>Circuit Gilles Villeneuve</td>\n      <td>0.107914</td>\n    </tr>\n    <tr>\n      <th>8</th>\n      <td>Circuit de Barcelona-Catalunya</td>\n      <td>0.115607</td>\n    </tr>\n    <tr>\n      <th>9</th>\n      <td>Circuit de Monaco</td>\n      <td>0.154839</td>\n    </tr>\n    <tr>\n      <th>10</th>\n      <td>Circuit de Spa-Francorchamps</td>\n      <td>0.166667</td>\n    </tr>\n    <tr>\n      <th>11</th>\n      <td>Circuit of the Americas</td>\n      <td>0.195946</td>\n    </tr>\n    <tr>\n      <th>12</th>\n      <td>Hungaroring</td>\n      <td>0.132184</td>\n    </tr>\n    <tr>\n      <th>13</th>\n      <td>Jeddah Corniche Circuit</td>\n      <td>0.176471</td>\n    </tr>\n    <tr>\n      <th>14</th>\n      <td>Marina Bay Street Circuit</td>\n      <td>0.207143</td>\n    </tr>\n    <tr>\n      <th>15</th>\n      <td>Red Bull Ring</td>\n      <td>0.165746</td>\n    </tr>\n    <tr>\n      <th>16</th>\n      <td>Silverstone Circuit</td>\n      <td>0.152632</td>\n    </tr>\n    <tr>\n      <th>17</th>\n      <td>Suzuka Circuit</td>\n      <td>0.148936</td>\n    </tr>\n    <tr>\n      <th>18</th>\n      <td>Yas Marina Circuit</td>\n      <td>0.121795</td>\n    </tr>\n  </tbody>\n</table>\n</div>"
     },
     "metadata": {},
     "execution_count": 119
    }
   ],
   "source": [
    "dnf_circuit = pd.read_csv('f1_dnf_circuit.csv')\n",
    "dnf_circuit"
   ]
  },
  {
   "cell_type": "code",
   "execution_count": 120,
   "metadata": {},
   "outputs": [
    {
     "output_type": "stream",
     "name": "stdout",
     "text": "Autódromo José Carlos Pace\nYas Marina Circuit\nAutodromo Enzo e Dino Ferrari\n"
    }
   ],
   "source": [
    "for circuit in circuits:\n",
    "    if circuit not in current_circuits:\n",
    "        print(circuit)"
   ]
  },
  {
   "cell_type": "code",
   "execution_count": 121,
   "metadata": {},
   "outputs": [
    {
     "output_type": "execute_result",
     "data": {
      "text/plain": "['driver_VET',\n 'driver_RAI',\n 'driver_GRO',\n 'teammate_GRO',\n 'teammate_RAI',\n 'teammate_VET',\n 'teammate_NOR',\n 'teammate_ALB']"
     },
     "metadata": {},
     "execution_count": 121
    }
   ],
   "source": [
    "not_teammates_and_drivers = []\n",
    "for driver in drivers:\n",
    "    if driver not in current_drivers:\n",
    "        not_teammates_and_drivers.append('driver_'+ driver)\n",
    "for teammate in teammates:\n",
    "    if teammate not in current_teammates:\n",
    "        not_teammates_and_drivers.append('teammate_'+teammate)\n",
    "\n",
    "\n",
    "not_teammates_and_drivers"
   ]
  },
  {
   "cell_type": "code",
   "execution_count": 122,
   "metadata": {},
   "outputs": [],
   "source": [
    "# iterate through entire dataset\n",
    "\n",
    "all_preds = []\n",
    "# do one hot encoding requires all possible combinations to be same as training set\n",
    "one_hot_circuit = pd.get_dummies(cleaned_permutations, columns = ['circuit', 'constructor', 'driver', 'teammate'])\n",
    "\n",
    "# remove drivers and teammates that don't exist on the circuit for 2023 also remove Imola because canceled 2023\n",
    "one_hot_circuit = one_hot_circuit.loc[(one_hot_circuit['driver_VET'] != 1) & (one_hot_circuit['driver_RAI'] != 1) & (one_hot_circuit['driver_GRO'] != 1) & (one_hot_circuit['teammate_GRO'] != 1) & (one_hot_circuit['teammate_RAI'] != 1) & (one_hot_circuit['teammate_VET'] != 1) & (one_hot_circuit['circuit_Autodromo Enzo e Dino Ferrari'] != 1)]\n",
    "\n",
    "# create a dataframe to store the results\n",
    "final_results = pd.DataFrame(columns=['circuit', 'driver', 'pred_pos'])\n",
    "\n",
    "for circuit in current_circuits: \n",
    "\n",
    "    # get the data specific to the circuit\n",
    "    circuit_data = one_hot_circuit.loc[one_hot_circuit['circuit_'+circuit] == 1]\n",
    "\n",
    "\n",
    "    # need to randomly make a couple qualifying positions dnq\n",
    "    dnf_rate = dnf_circuit.loc[dnf_circuit['circuit'] == circuit]['percentDnf'].iloc[0]\n",
    "\n",
    "    num_values_to_replace = int(dnf_rate * len(circuit_data['qualifyingPos']))\n",
    "    indices_to_replace = np.random.choice(circuit_data.index, num_values_to_replace, replace=False)\n",
    "    circuit_data.loc[indices_to_replace, 'qualifyingPos'] = 0\n",
    "\n",
    "    # predict on the circuit\n",
    "    pred_vals = standard_scaler_unscale(regr.predict(circuit_data), one_hot_encoded_data.position.mean(), \n",
    "                                            one_hot_encoded_data.position.std()).astype(np.int32)\n",
    "    circuit_data['all_preds'] = pred_vals     \n",
    "\n",
    "    for driver in drivers:\n",
    "\n",
    "        # find the median position for each driver\n",
    "        med_pos = circuit_data.loc[circuit_data['driver_'+driver] == 1]['all_preds'].median()\n",
    "        # add the results to the dataframe\n",
    "        final_results = final_results.append({'circuit': circuit, 'driver': driver, 'pred_pos': med_pos}, ignore_index=True)  \n",
    "\n",
    "final_results['pred_points'] = final_results['pred_pos']   \n",
    "final_results['pred_points'] = final_results['pred_points'].replace({1.0: 25, 2.0: 18, 3.0: 15, 4.0: 12, 5.0: 10, 6.0: 8, 7.0: 6, 8.0: 4, 9.0: 2, 10.0: 1})   \n"
   ]
  },
  {
   "cell_type": "code",
   "execution_count": 124,
   "metadata": {},
   "outputs": [
    {
     "output_type": "execute_result",
     "data": {
      "text/plain": "        pred_pos  pred_points\ndriver                       \nHAM         39.0        293.0\nALO         40.0        289.0\nLEC         43.0        273.0\nTSU         44.0        252.0\nVER         56.0        232.0\nRUS         58.0        229.0\nSTR         58.0        229.0\nHUL         36.0        226.0\nMAG         64.0        211.0\nGAS         67.0        196.0\nNOR         68.0        193.0\nSAI         28.0        193.0\nRIC         70.0        189.0\nALB         72.0        185.0\nOCO         75.0        178.0\nZHO         76.0        174.0\nBOT         77.0        171.0\nPER         25.0        145.0\nRAI          0.0          0.0\nGRO          0.0          0.0\nVET          0.0          0.0",
      "text/html": "<div>\n<style scoped>\n    .dataframe tbody tr th:only-of-type {\n        vertical-align: middle;\n    }\n\n    .dataframe tbody tr th {\n        vertical-align: top;\n    }\n\n    .dataframe thead th {\n        text-align: right;\n    }\n</style>\n<table border=\"1\" class=\"dataframe\">\n  <thead>\n    <tr style=\"text-align: right;\">\n      <th></th>\n      <th>pred_pos</th>\n      <th>pred_points</th>\n    </tr>\n    <tr>\n      <th>driver</th>\n      <th></th>\n      <th></th>\n    </tr>\n  </thead>\n  <tbody>\n    <tr>\n      <th>HAM</th>\n      <td>39.0</td>\n      <td>293.0</td>\n    </tr>\n    <tr>\n      <th>ALO</th>\n      <td>40.0</td>\n      <td>289.0</td>\n    </tr>\n    <tr>\n      <th>LEC</th>\n      <td>43.0</td>\n      <td>273.0</td>\n    </tr>\n    <tr>\n      <th>TSU</th>\n      <td>44.0</td>\n      <td>252.0</td>\n    </tr>\n    <tr>\n      <th>VER</th>\n      <td>56.0</td>\n      <td>232.0</td>\n    </tr>\n    <tr>\n      <th>RUS</th>\n      <td>58.0</td>\n      <td>229.0</td>\n    </tr>\n    <tr>\n      <th>STR</th>\n      <td>58.0</td>\n      <td>229.0</td>\n    </tr>\n    <tr>\n      <th>HUL</th>\n      <td>36.0</td>\n      <td>226.0</td>\n    </tr>\n    <tr>\n      <th>MAG</th>\n      <td>64.0</td>\n      <td>211.0</td>\n    </tr>\n    <tr>\n      <th>GAS</th>\n      <td>67.0</td>\n      <td>196.0</td>\n    </tr>\n    <tr>\n      <th>NOR</th>\n      <td>68.0</td>\n      <td>193.0</td>\n    </tr>\n    <tr>\n      <th>SAI</th>\n      <td>28.0</td>\n      <td>193.0</td>\n    </tr>\n    <tr>\n      <th>RIC</th>\n      <td>70.0</td>\n      <td>189.0</td>\n    </tr>\n    <tr>\n      <th>ALB</th>\n      <td>72.0</td>\n      <td>185.0</td>\n    </tr>\n    <tr>\n      <th>OCO</th>\n      <td>75.0</td>\n      <td>178.0</td>\n    </tr>\n    <tr>\n      <th>ZHO</th>\n      <td>76.0</td>\n      <td>174.0</td>\n    </tr>\n    <tr>\n      <th>BOT</th>\n      <td>77.0</td>\n      <td>171.0</td>\n    </tr>\n    <tr>\n      <th>PER</th>\n      <td>25.0</td>\n      <td>145.0</td>\n    </tr>\n    <tr>\n      <th>RAI</th>\n      <td>0.0</td>\n      <td>0.0</td>\n    </tr>\n    <tr>\n      <th>GRO</th>\n      <td>0.0</td>\n      <td>0.0</td>\n    </tr>\n    <tr>\n      <th>VET</th>\n      <td>0.0</td>\n      <td>0.0</td>\n    </tr>\n  </tbody>\n</table>\n</div>"
     },
     "metadata": {},
     "execution_count": 124
    }
   ],
   "source": [
    "final_results.groupby('driver').sum().sort_values(by=['pred_points'], ascending=False)"
   ]
  },
  {
   "cell_type": "markdown",
   "metadata": {},
   "source": [
    "## create model by track and test w/ permuted data "
   ]
  },
  {
   "cell_type": "code",
   "execution_count": 233,
   "metadata": {},
   "outputs": [],
   "source": [
    "data_raw = pd.read_csv(\"f1_clean.csv\")\n",
    "\n",
    "data_train = data_raw[[\"year\", \"circuit\", \"constructor\", \"driver\", \"qualifyingPos\", \"teammate\", \"position\", \"points\"]]\n",
    "\n"
   ]
  },
  {
   "cell_type": "code",
   "execution_count": 234,
   "metadata": {},
   "outputs": [
    {
     "output_type": "execute_result",
     "data": {
      "text/plain": "                               circuit driver teammate  qualifyingPos  \\\n0        Bahrain International Circuit    ALO    OTHER              1   \n1        Bahrain International Circuit    ALO    OTHER              1   \n2        Bahrain International Circuit    ALO    OTHER              1   \n3        Bahrain International Circuit    ALO    OTHER              1   \n4        Bahrain International Circuit    ALO    OTHER              1   \n...                                ...    ...      ...            ...   \n1755395        Jeddah Corniche Circuit    ZHO      TSU             20   \n1755396        Jeddah Corniche Circuit    ZHO      TSU             20   \n1755397        Jeddah Corniche Circuit    ZHO      TSU             20   \n1755398        Jeddah Corniche Circuit    ZHO      TSU             20   \n1755399        Jeddah Corniche Circuit    ZHO      TSU             20   \n\n            constructor  \n0               Ferrari  \n1               McLaren  \n2              Red Bull  \n3              Williams  \n4            Alfa Romeo  \n...                 ...  \n1755395  Alpine F1 Team  \n1755396      AlphaTauri  \n1755397    Aston Martin  \n1755398        Mercedes  \n1755399    Haas F1 Team  \n\n[1675800 rows x 5 columns]",
      "text/html": "<div>\n<style scoped>\n    .dataframe tbody tr th:only-of-type {\n        vertical-align: middle;\n    }\n\n    .dataframe tbody tr th {\n        vertical-align: top;\n    }\n\n    .dataframe thead th {\n        text-align: right;\n    }\n</style>\n<table border=\"1\" class=\"dataframe\">\n  <thead>\n    <tr style=\"text-align: right;\">\n      <th></th>\n      <th>circuit</th>\n      <th>driver</th>\n      <th>teammate</th>\n      <th>qualifyingPos</th>\n      <th>constructor</th>\n    </tr>\n  </thead>\n  <tbody>\n    <tr>\n      <th>0</th>\n      <td>Bahrain International Circuit</td>\n      <td>ALO</td>\n      <td>OTHER</td>\n      <td>1</td>\n      <td>Ferrari</td>\n    </tr>\n    <tr>\n      <th>1</th>\n      <td>Bahrain International Circuit</td>\n      <td>ALO</td>\n      <td>OTHER</td>\n      <td>1</td>\n      <td>McLaren</td>\n    </tr>\n    <tr>\n      <th>2</th>\n      <td>Bahrain International Circuit</td>\n      <td>ALO</td>\n      <td>OTHER</td>\n      <td>1</td>\n      <td>Red Bull</td>\n    </tr>\n    <tr>\n      <th>3</th>\n      <td>Bahrain International Circuit</td>\n      <td>ALO</td>\n      <td>OTHER</td>\n      <td>1</td>\n      <td>Williams</td>\n    </tr>\n    <tr>\n      <th>4</th>\n      <td>Bahrain International Circuit</td>\n      <td>ALO</td>\n      <td>OTHER</td>\n      <td>1</td>\n      <td>Alfa Romeo</td>\n    </tr>\n    <tr>\n      <th>...</th>\n      <td>...</td>\n      <td>...</td>\n      <td>...</td>\n      <td>...</td>\n      <td>...</td>\n    </tr>\n    <tr>\n      <th>1755395</th>\n      <td>Jeddah Corniche Circuit</td>\n      <td>ZHO</td>\n      <td>TSU</td>\n      <td>20</td>\n      <td>Alpine F1 Team</td>\n    </tr>\n    <tr>\n      <th>1755396</th>\n      <td>Jeddah Corniche Circuit</td>\n      <td>ZHO</td>\n      <td>TSU</td>\n      <td>20</td>\n      <td>AlphaTauri</td>\n    </tr>\n    <tr>\n      <th>1755397</th>\n      <td>Jeddah Corniche Circuit</td>\n      <td>ZHO</td>\n      <td>TSU</td>\n      <td>20</td>\n      <td>Aston Martin</td>\n    </tr>\n    <tr>\n      <th>1755398</th>\n      <td>Jeddah Corniche Circuit</td>\n      <td>ZHO</td>\n      <td>TSU</td>\n      <td>20</td>\n      <td>Mercedes</td>\n    </tr>\n    <tr>\n      <th>1755399</th>\n      <td>Jeddah Corniche Circuit</td>\n      <td>ZHO</td>\n      <td>TSU</td>\n      <td>20</td>\n      <td>Haas F1 Team</td>\n    </tr>\n  </tbody>\n</table>\n<p>1675800 rows × 5 columns</p>\n</div>"
     },
     "metadata": {},
     "execution_count": 234
    }
   ],
   "source": [
    "circuits = data_train.circuit.unique()\n",
    "drivers = data_train.driver.unique()\n",
    "teammates = data_train.teammate.unique()\n",
    "constructors = data_train.constructor.unique()\n",
    "# qualifying_positions = data_train.qualifyingPos.unique()\n",
    "qualifying_positions = [1, 2, 3, 4, 5, 6, 7, 8, 9, 10, 11, 12, 13, 14, 15, 16, 17, 18, 19, 20]\n",
    "all_list = [circuits, drivers, partners, qualifying_positions, constructors]\n",
    " \n",
    "res = list(itertools.product(*all_list))\n",
    "\n",
    "all_permutations = pd.DataFrame(res, columns=['circuit', 'driver', 'teammate', 'qualifyingPos', 'constructor'])\n",
    "cleaned_permutations = all_permutations.loc[all_permutations['driver'] != all_permutations['teammate']]\n",
    "cleaned_permutations\n"
   ]
  },
  {
   "cell_type": "code",
   "execution_count": 219,
   "metadata": {},
   "outputs": [
    {
     "output_type": "error",
     "ename": "ValueError",
     "evalue": "X has 50 features, but MLPRegressor is expecting 51 features as input.",
     "traceback": [
      "\u001b[1;31m---------------------------------------------------------------------------\u001b[0m",
      "\u001b[1;31mValueError\u001b[0m                                Traceback (most recent call last)",
      "Input \u001b[1;32mIn [219]\u001b[0m, in \u001b[0;36m<cell line: 8>\u001b[1;34m()\u001b[0m\n\u001b[0;32m     78\u001b[0m one_hot_circuit\u001b[38;5;241m.\u001b[39mloc[indices_to_replace, \u001b[38;5;124m'\u001b[39m\u001b[38;5;124mqualifyingPos\u001b[39m\u001b[38;5;124m'\u001b[39m] \u001b[38;5;241m=\u001b[39m \u001b[38;5;241m0\u001b[39m\n\u001b[0;32m     80\u001b[0m \u001b[38;5;66;03m# predict on the circuit\u001b[39;00m\n\u001b[1;32m---> 81\u001b[0m pred_vals \u001b[38;5;241m=\u001b[39m standard_scaler_unscale(\u001b[43mregr\u001b[49m\u001b[38;5;241;43m.\u001b[39;49m\u001b[43mpredict\u001b[49m\u001b[43m(\u001b[49m\u001b[43mone_hot_circuit\u001b[49m\u001b[43m)\u001b[49m, one_hot_encoded_data\u001b[38;5;241m.\u001b[39mposition\u001b[38;5;241m.\u001b[39mmean(), \n\u001b[0;32m     82\u001b[0m                                         one_hot_encoded_data\u001b[38;5;241m.\u001b[39mposition\u001b[38;5;241m.\u001b[39mstd())\u001b[38;5;241m.\u001b[39mastype(np\u001b[38;5;241m.\u001b[39mint32)\n\u001b[0;32m     83\u001b[0m one_hot_circuit[\u001b[38;5;124m'\u001b[39m\u001b[38;5;124mall_preds\u001b[39m\u001b[38;5;124m'\u001b[39m] \u001b[38;5;241m=\u001b[39m pred_vals     \n\u001b[0;32m     85\u001b[0m \u001b[38;5;28;01mfor\u001b[39;00m driver \u001b[38;5;129;01min\u001b[39;00m drivers:\n\u001b[0;32m     86\u001b[0m \n\u001b[0;32m     87\u001b[0m     \u001b[38;5;66;03m# find the median position for each driver\u001b[39;00m\n",
      "File \u001b[1;32m~\\Anaconda3\\envs\\en685648\\lib\\site-packages\\sklearn\\neural_network\\_multilayer_perceptron.py:1591\u001b[0m, in \u001b[0;36mMLPRegressor.predict\u001b[1;34m(self, X)\u001b[0m\n\u001b[0;32m   1578\u001b[0m \u001b[38;5;124;03m\"\"\"Predict using the multi-layer perceptron model.\u001b[39;00m\n\u001b[0;32m   1579\u001b[0m \n\u001b[0;32m   1580\u001b[0m \u001b[38;5;124;03mParameters\u001b[39;00m\n\u001b[1;32m   (...)\u001b[0m\n\u001b[0;32m   1588\u001b[0m \u001b[38;5;124;03m    The predicted values.\u001b[39;00m\n\u001b[0;32m   1589\u001b[0m \u001b[38;5;124;03m\"\"\"\u001b[39;00m\n\u001b[0;32m   1590\u001b[0m check_is_fitted(\u001b[38;5;28mself\u001b[39m)\n\u001b[1;32m-> 1591\u001b[0m y_pred \u001b[38;5;241m=\u001b[39m \u001b[38;5;28;43mself\u001b[39;49m\u001b[38;5;241;43m.\u001b[39;49m\u001b[43m_forward_pass_fast\u001b[49m\u001b[43m(\u001b[49m\u001b[43mX\u001b[49m\u001b[43m)\u001b[49m\n\u001b[0;32m   1592\u001b[0m \u001b[38;5;28;01mif\u001b[39;00m y_pred\u001b[38;5;241m.\u001b[39mshape[\u001b[38;5;241m1\u001b[39m] \u001b[38;5;241m==\u001b[39m \u001b[38;5;241m1\u001b[39m:\n\u001b[0;32m   1593\u001b[0m     \u001b[38;5;28;01mreturn\u001b[39;00m y_pred\u001b[38;5;241m.\u001b[39mravel()\n",
      "File \u001b[1;32m~\\Anaconda3\\envs\\en685648\\lib\\site-packages\\sklearn\\neural_network\\_multilayer_perceptron.py:160\u001b[0m, in \u001b[0;36mBaseMultilayerPerceptron._forward_pass_fast\u001b[1;34m(self, X)\u001b[0m\n\u001b[0;32m    144\u001b[0m \u001b[38;5;28;01mdef\u001b[39;00m \u001b[38;5;21m_forward_pass_fast\u001b[39m(\u001b[38;5;28mself\u001b[39m, X):\n\u001b[0;32m    145\u001b[0m     \u001b[38;5;124;03m\"\"\"Predict using the trained model\u001b[39;00m\n\u001b[0;32m    146\u001b[0m \n\u001b[0;32m    147\u001b[0m \u001b[38;5;124;03m    This is the same as _forward_pass but does not record the activations\u001b[39;00m\n\u001b[1;32m   (...)\u001b[0m\n\u001b[0;32m    158\u001b[0m \u001b[38;5;124;03m        The decision function of the samples for each class in the model.\u001b[39;00m\n\u001b[0;32m    159\u001b[0m \u001b[38;5;124;03m    \"\"\"\u001b[39;00m\n\u001b[1;32m--> 160\u001b[0m     X \u001b[38;5;241m=\u001b[39m \u001b[38;5;28;43mself\u001b[39;49m\u001b[38;5;241;43m.\u001b[39;49m\u001b[43m_validate_data\u001b[49m\u001b[43m(\u001b[49m\u001b[43mX\u001b[49m\u001b[43m,\u001b[49m\u001b[43m \u001b[49m\u001b[43maccept_sparse\u001b[49m\u001b[38;5;241;43m=\u001b[39;49m\u001b[43m[\u001b[49m\u001b[38;5;124;43m\"\u001b[39;49m\u001b[38;5;124;43mcsr\u001b[39;49m\u001b[38;5;124;43m\"\u001b[39;49m\u001b[43m,\u001b[49m\u001b[43m \u001b[49m\u001b[38;5;124;43m\"\u001b[39;49m\u001b[38;5;124;43mcsc\u001b[39;49m\u001b[38;5;124;43m\"\u001b[39;49m\u001b[43m]\u001b[49m\u001b[43m,\u001b[49m\u001b[43m \u001b[49m\u001b[43mreset\u001b[49m\u001b[38;5;241;43m=\u001b[39;49m\u001b[38;5;28;43;01mFalse\u001b[39;49;00m\u001b[43m)\u001b[49m\n\u001b[0;32m    162\u001b[0m     \u001b[38;5;66;03m# Initialize first layer\u001b[39;00m\n\u001b[0;32m    163\u001b[0m     activation \u001b[38;5;241m=\u001b[39m X\n",
      "File \u001b[1;32m~\\Anaconda3\\envs\\en685648\\lib\\site-packages\\sklearn\\base.py:600\u001b[0m, in \u001b[0;36mBaseEstimator._validate_data\u001b[1;34m(self, X, y, reset, validate_separately, **check_params)\u001b[0m\n\u001b[0;32m    597\u001b[0m     out \u001b[38;5;241m=\u001b[39m X, y\n\u001b[0;32m    599\u001b[0m \u001b[38;5;28;01mif\u001b[39;00m \u001b[38;5;129;01mnot\u001b[39;00m no_val_X \u001b[38;5;129;01mand\u001b[39;00m check_params\u001b[38;5;241m.\u001b[39mget(\u001b[38;5;124m\"\u001b[39m\u001b[38;5;124mensure_2d\u001b[39m\u001b[38;5;124m\"\u001b[39m, \u001b[38;5;28;01mTrue\u001b[39;00m):\n\u001b[1;32m--> 600\u001b[0m     \u001b[38;5;28;43mself\u001b[39;49m\u001b[38;5;241;43m.\u001b[39;49m\u001b[43m_check_n_features\u001b[49m\u001b[43m(\u001b[49m\u001b[43mX\u001b[49m\u001b[43m,\u001b[49m\u001b[43m \u001b[49m\u001b[43mreset\u001b[49m\u001b[38;5;241;43m=\u001b[39;49m\u001b[43mreset\u001b[49m\u001b[43m)\u001b[49m\n\u001b[0;32m    602\u001b[0m \u001b[38;5;28;01mreturn\u001b[39;00m out\n",
      "File \u001b[1;32m~\\Anaconda3\\envs\\en685648\\lib\\site-packages\\sklearn\\base.py:400\u001b[0m, in \u001b[0;36mBaseEstimator._check_n_features\u001b[1;34m(self, X, reset)\u001b[0m\n\u001b[0;32m    397\u001b[0m     \u001b[38;5;28;01mreturn\u001b[39;00m\n\u001b[0;32m    399\u001b[0m \u001b[38;5;28;01mif\u001b[39;00m n_features \u001b[38;5;241m!=\u001b[39m \u001b[38;5;28mself\u001b[39m\u001b[38;5;241m.\u001b[39mn_features_in_:\n\u001b[1;32m--> 400\u001b[0m     \u001b[38;5;28;01mraise\u001b[39;00m \u001b[38;5;167;01mValueError\u001b[39;00m(\n\u001b[0;32m    401\u001b[0m         \u001b[38;5;124mf\u001b[39m\u001b[38;5;124m\"\u001b[39m\u001b[38;5;124mX has \u001b[39m\u001b[38;5;132;01m{\u001b[39;00mn_features\u001b[38;5;132;01m}\u001b[39;00m\u001b[38;5;124m features, but \u001b[39m\u001b[38;5;132;01m{\u001b[39;00m\u001b[38;5;28mself\u001b[39m\u001b[38;5;241m.\u001b[39m\u001b[38;5;18m__class__\u001b[39m\u001b[38;5;241m.\u001b[39m\u001b[38;5;18m__name__\u001b[39m\u001b[38;5;132;01m}\u001b[39;00m\u001b[38;5;124m \u001b[39m\u001b[38;5;124m\"\u001b[39m\n\u001b[0;32m    402\u001b[0m         \u001b[38;5;124mf\u001b[39m\u001b[38;5;124m\"\u001b[39m\u001b[38;5;124mis expecting \u001b[39m\u001b[38;5;132;01m{\u001b[39;00m\u001b[38;5;28mself\u001b[39m\u001b[38;5;241m.\u001b[39mn_features_in_\u001b[38;5;132;01m}\u001b[39;00m\u001b[38;5;124m features as input.\u001b[39m\u001b[38;5;124m\"\u001b[39m\n\u001b[0;32m    403\u001b[0m     )\n",
      "\u001b[1;31mValueError\u001b[0m: X has 50 features, but MLPRegressor is expecting 51 features as input."
     ]
    }
   ],
   "source": [
    "# iterate through entire dataset\n",
    "\n",
    "all_preds = []\n",
    "\n",
    "# create a dataframe to store the results\n",
    "final_results = pd.DataFrame(columns=['circuit', 'driver', 'pred_pos'])\n",
    "\n",
    "for circuit in current_circuits: \n",
    "    # create model specific to a circuit\n",
    "    circuit_data = data_train.loc[data_train['circuit'] == circuit]\n",
    "    # circuit_training_drivers = data_train\n",
    "    one_hot_encoded_data = pd.get_dummies(circuit_data, columns = ['circuit', 'constructor', 'driver', 'teammate'])\n",
    "    data_train_scaled = one_hot_encoded_data.copy()\n",
    "    data_train_scaled.qualifyingPos = standard_scaler_scale(one_hot_encoded_data.qualifyingPos)\n",
    "    data_train_scaled.position = standard_scaler_scale(one_hot_encoded_data.position)\n",
    "\n",
    "    train_set = data_train_scaled[data_train_scaled.year != 2023]\n",
    "    test_set = data_train_scaled[data_train_scaled.year == 2023]\n",
    "\n",
    "    X_train = train_set.drop(['position', 'year', 'points'],axis = 1)\n",
    "    y_train = train_set['position']\n",
    "\n",
    "    # circuit_training_drivers = X_train.driver.unique().str.split()\n",
    "\n",
    "    regr = MLPRegressor(\n",
    "        hidden_layer_sizes=(500, 250, 100, 50), \n",
    "        max_iter=500,\n",
    "        random_state=203043043\n",
    "        ).fit(X_train, y_train)\n",
    "\n",
    "\n",
    "    # get the data specific to the circuit\n",
    "\n",
    "    # remove columns that are in test set but are not in training set \n",
    "    circuit_training_drivers = data_train.driver.loc[(data_train['circuit'] == circuit) & (data_train['year'] != 2023)].unique()\n",
    "    circuit_training_teammates = data_train.teammate.loc[(data_train['circuit'] == circuit) & (data_train['year'] != 2023)].unique()\n",
    "\n",
    "    # if there are drivers in the permutation but not in the training set then remove them\n",
    "    circuit_permutation = cleaned_permutations.loc[(cleaned_permutations['circuit'] == circuit)]\n",
    "    circuit_permutation = circuit_permutation[circuit_permutation['driver'].isin(circuit_training_drivers)]\n",
    "    circuit_permutation = circuit_permutation[circuit_permutation['teammate'].isin(circuit_training_teammates)]\n",
    "    # do one hot encoding requires all possible combinations to be same as training set\n",
    "    one_hot_circuit = pd.get_dummies(circuit_permutation, columns = ['circuit', 'constructor', 'driver', 'teammate'])\n",
    "\n",
    "\n",
    "\n",
    "    # remove drivers and teammates that don't exist on the circuit for 2023\n",
    "    # one_hot_circuit = one_hot_circuit.loc[(one_hot_circuit['driver_VET'] != 1) & (one_hot_circuit['driver_RAI'] != 1) & (one_hot_circuit['driver_GRO'] != 1) & (one_hot_circuit['teammate_GRO'] != 1) & (one_hot_circuit['teammate_RAI'] != 1) & (one_hot_circuit['teammate_VET'] != 1)]\n",
    "\n",
    "    # not_teammates_and_drivers = []\n",
    "    # for driver in circuit_training_drivers:\n",
    "    #     if driver not in current_drivers:\n",
    "    #         not_teammates_and_drivers.append('driver_'+ driver)\n",
    "    # for teammate in circuit_training_drivers:\n",
    "    #     if teammate not in current_teammates:\n",
    "    #         not_teammates_and_drivers.append('teammate_'+teammate)\n",
    "\n",
    "    # values_to_match = [1] * len(not_teammates_and_drivers)\n",
    "\n",
    "    # # Construct the boolean mask dynamically\n",
    "    # condition_mask = all(one_hot_circuit[column] == value for column, value in zip(not_teammates_and_drivers, values_to_match))\n",
    "\n",
    "    # # Use the boolean mask to filter rows\n",
    "    # filtered_one_hot_circuit = one_hot_circuit[condition_mask]\n",
    "\n",
    "\n",
    "\n",
    "    # one_hot_circuit = one_hot_circuit.drop(not_teammates_and_drivers,axis = 1)\n",
    "\n",
    "    # current_circuit_data = one_hot_circuit.loc[one_hot_circuit['circuit_'+circuit] == 1]\n",
    "\n",
    "\n",
    "    # need to randomly make a couple qualifying positions dnq\n",
    "    dnf_rate = dnf_circuit.loc[dnf_circuit['circuit'] == circuit]['percentDnf'].iloc[0]\n",
    "\n",
    "    num_values_to_replace = int(dnf_rate * len(one_hot_circuit['qualifyingPos']))\n",
    "    indices_to_replace = np.random.choice(one_hot_circuit.index, num_values_to_replace, replace=False)\n",
    "    one_hot_circuit.loc[indices_to_replace, 'qualifyingPos'] = 0\n",
    "\n",
    "    # predict on the circuit\n",
    "    pred_vals = standard_scaler_unscale(regr.predict(one_hot_circuit), one_hot_encoded_data.position.mean(), \n",
    "                                            one_hot_encoded_data.position.std()).astype(np.int32)\n",
    "    one_hot_circuit['all_preds'] = pred_vals     \n",
    "\n",
    "    for driver in drivers:\n",
    "\n",
    "        # find the median position for each driver\n",
    "        med_pos = one_hot_circuit.loc[one_hot_circuit['driver_'+driver] == 1]['all_preds'].mean()\n",
    "        # add the results to the dataframe\n",
    "        final_results = final_results.append({'circuit': circuit, 'driver': driver, 'pred_pos': med_pos}, ignore_index=True)  "
   ]
  },
  {
   "cell_type": "code",
   "execution_count": 236,
   "metadata": {},
   "outputs": [],
   "source": [
    "# iterate through entire dataset\n",
    "\n",
    "all_preds = []\n",
    "\n",
    "# create a dataframe to store the results\n",
    "final_results = pd.DataFrame(columns=['circuit', 'driver', 'pred_pos'])\n",
    "\n",
    "for circuit in current_circuits: \n",
    "    # create model specific to a circuit\n",
    "    circuit_data = data_train.loc[(data_train['circuit'] == circuit)&(data_train['year'] != 2023)]\n",
    "    # circuit_training_drivers = data_train\n",
    "    one_hot_encoded_data = pd.get_dummies(circuit_data, columns = ['circuit', 'constructor', 'driver', 'teammate'])\n",
    "    data_train_scaled = one_hot_encoded_data.copy()\n",
    "    data_train_scaled.qualifyingPos = standard_scaler_scale(one_hot_encoded_data.qualifyingPos)\n",
    "    data_train_scaled.position = standard_scaler_scale(one_hot_encoded_data.position)\n",
    "\n",
    "    # train_set = data_train_scaled[data_train_scaled.year != 2023]\n",
    "    # test_set = data_train_scaled[data_train_scaled.year == 2023]\n",
    "\n",
    "    X_train = data_train_scaled.drop(['position', 'year', 'points'],axis = 1)\n",
    "    y_train = data_train_scaled['position']\n",
    "\n",
    "    # circuit_training_drivers = X_train.driver.unique().str.split()\n",
    "\n",
    "    regr = MLPRegressor(\n",
    "        hidden_layer_sizes=(500, 250, 100, 50), \n",
    "        max_iter=500,\n",
    "        random_state=203043043\n",
    "        ).fit(X_train, y_train)\n",
    "\n",
    "\n",
    "    # get the data specific to the circuit\n",
    "\n",
    "    # remove columns that are in test set but are not in training set \n",
    "    circuit_training_drivers = data_train.driver.loc[(data_train['circuit'] == circuit) & (data_train['year'] != 2023)].unique()\n",
    "    circuit_training_teammates = data_train.teammate.loc[(data_train['circuit'] == circuit) & (data_train['year'] != 2023)].unique()\n",
    "\n",
    "    # if there are drivers in the permutation but not in the training set then remove them\n",
    "    circuit_permutation = cleaned_permutations.loc[(cleaned_permutations['circuit'] == circuit)]\n",
    "    circuit_permutation = circuit_permutation[circuit_permutation['driver'].isin(circuit_training_drivers)]\n",
    "    circuit_permutation = circuit_permutation[circuit_permutation['teammate'].isin(circuit_training_teammates)]\n",
    "    # do one hot encoding requires all possible combinations to be same as training set\n",
    "    one_hot_circuit = pd.get_dummies(circuit_permutation, columns = ['circuit', 'constructor', 'driver', 'teammate'])\n",
    "\n",
    "\n",
    "\n",
    "    # remove drivers and teammates that don't exist on the circuit for 2023\n",
    "    # one_hot_circuit = one_hot_circuit.loc[(one_hot_circuit['driver_VET'] != 1) & (one_hot_circuit['driver_RAI'] != 1) & (one_hot_circuit['driver_GRO'] != 1) & (one_hot_circuit['teammate_GRO'] != 1) & (one_hot_circuit['teammate_RAI'] != 1) & (one_hot_circuit['teammate_VET'] != 1)]\n",
    "\n",
    "    # not_teammates_and_drivers = []\n",
    "    # for driver in circuit_training_drivers:\n",
    "    #     if driver not in current_drivers:\n",
    "    #         not_teammates_and_drivers.append('driver_'+ driver)\n",
    "    # for teammate in circuit_training_drivers:\n",
    "    #     if teammate not in current_teammates:\n",
    "    #         not_teammates_and_drivers.append('teammate_'+teammate)\n",
    "\n",
    "    # values_to_match = [1] * len(not_teammates_and_drivers)\n",
    "\n",
    "    # # Construct the boolean mask dynamically\n",
    "    # condition_mask = all(one_hot_circuit[column] == value for column, value in zip(not_teammates_and_drivers, values_to_match))\n",
    "\n",
    "    # # Use the boolean mask to filter rows\n",
    "    # filtered_one_hot_circuit = one_hot_circuit[condition_mask]\n",
    "\n",
    "\n",
    "\n",
    "    # one_hot_circuit = one_hot_circuit.drop(not_teammates_and_drivers,axis = 1)\n",
    "\n",
    "    # current_circuit_data = one_hot_circuit.loc[one_hot_circuit['circuit_'+circuit] == 1]\n",
    "\n",
    "\n",
    "    # need to randomly make a couple qualifying positions dnq\n",
    "    dnf_rate = dnf_circuit.loc[dnf_circuit['circuit'] == circuit]['percentDnf'].iloc[0]\n",
    "\n",
    "    num_values_to_replace = int(dnf_rate * len(one_hot_circuit['qualifyingPos']))\n",
    "    indices_to_replace = np.random.choice(one_hot_circuit.index, num_values_to_replace, replace=False)\n",
    "    one_hot_circuit.loc[indices_to_replace, 'qualifyingPos'] = 0\n",
    "\n",
    "    # predict on the circuit\n",
    "    pred_vals = standard_scaler_unscale(regr.predict(one_hot_circuit), one_hot_encoded_data.position.mean(), \n",
    "                                            one_hot_encoded_data.position.std()).astype(np.int32)\n",
    "    one_hot_circuit['all_preds'] = pred_vals     \n",
    "\n",
    "    for driver in circuit_training_drivers:\n",
    "\n",
    "        # find the median position for each driver\n",
    "        med_pos = one_hot_circuit.loc[one_hot_circuit['driver_'+driver] == 1]['all_preds'].mean()\n",
    "        # add the results to the dataframe\n",
    "        final_results = final_results.append({'circuit': circuit, 'driver': driver, 'pred_pos': med_pos}, ignore_index=True)  \n",
    "\n",
    "final_results['pred_points'] = final_results['pred_pos']   \n",
    "final_results['pred_points'] = final_results['pred_points'].replace({1.0: 25, 2.0: 18, 3.0: 15, 4.0: 12, 5.0: 10, 6.0: 8, 7.0: 6, 8.0: 4, 9.0: 2, 10.0: 1})"
   ]
  },
  {
   "cell_type": "code",
   "execution_count": 237,
   "metadata": {},
   "outputs": [
    {
     "output_type": "execute_result",
     "data": {
      "text/plain": "                           circuit driver   pred_pos  pred_points\n0    Bahrain International Circuit    ALO -78.723810   -78.723810\n1    Bahrain International Circuit    HAM -78.597143   -78.597143\n2    Bahrain International Circuit    VET -76.869762   -76.869762\n3    Bahrain International Circuit    HUL -77.663095   -77.663095\n4    Bahrain International Circuit    RAI -76.227619   -76.227619\n..                             ...    ...        ...          ...\n330   Autódromo Hermanos Rodríguez    ALB  29.126905    29.126905\n331   Autódromo Hermanos Rodríguez    RUS  30.717381    30.717381\n332   Autódromo Hermanos Rodríguez    NOR  27.485000    27.485000\n333   Autódromo Hermanos Rodríguez    TSU  25.805238    25.805238\n334   Autódromo Hermanos Rodríguez    ZHO  30.008333    30.008333\n\n[335 rows x 4 columns]",
      "text/html": "<div>\n<style scoped>\n    .dataframe tbody tr th:only-of-type {\n        vertical-align: middle;\n    }\n\n    .dataframe tbody tr th {\n        vertical-align: top;\n    }\n\n    .dataframe thead th {\n        text-align: right;\n    }\n</style>\n<table border=\"1\" class=\"dataframe\">\n  <thead>\n    <tr style=\"text-align: right;\">\n      <th></th>\n      <th>circuit</th>\n      <th>driver</th>\n      <th>pred_pos</th>\n      <th>pred_points</th>\n    </tr>\n  </thead>\n  <tbody>\n    <tr>\n      <th>0</th>\n      <td>Bahrain International Circuit</td>\n      <td>ALO</td>\n      <td>-78.723810</td>\n      <td>-78.723810</td>\n    </tr>\n    <tr>\n      <th>1</th>\n      <td>Bahrain International Circuit</td>\n      <td>HAM</td>\n      <td>-78.597143</td>\n      <td>-78.597143</td>\n    </tr>\n    <tr>\n      <th>2</th>\n      <td>Bahrain International Circuit</td>\n      <td>VET</td>\n      <td>-76.869762</td>\n      <td>-76.869762</td>\n    </tr>\n    <tr>\n      <th>3</th>\n      <td>Bahrain International Circuit</td>\n      <td>HUL</td>\n      <td>-77.663095</td>\n      <td>-77.663095</td>\n    </tr>\n    <tr>\n      <th>4</th>\n      <td>Bahrain International Circuit</td>\n      <td>RAI</td>\n      <td>-76.227619</td>\n      <td>-76.227619</td>\n    </tr>\n    <tr>\n      <th>...</th>\n      <td>...</td>\n      <td>...</td>\n      <td>...</td>\n      <td>...</td>\n    </tr>\n    <tr>\n      <th>330</th>\n      <td>Autódromo Hermanos Rodríguez</td>\n      <td>ALB</td>\n      <td>29.126905</td>\n      <td>29.126905</td>\n    </tr>\n    <tr>\n      <th>331</th>\n      <td>Autódromo Hermanos Rodríguez</td>\n      <td>RUS</td>\n      <td>30.717381</td>\n      <td>30.717381</td>\n    </tr>\n    <tr>\n      <th>332</th>\n      <td>Autódromo Hermanos Rodríguez</td>\n      <td>NOR</td>\n      <td>27.485000</td>\n      <td>27.485000</td>\n    </tr>\n    <tr>\n      <th>333</th>\n      <td>Autódromo Hermanos Rodríguez</td>\n      <td>TSU</td>\n      <td>25.805238</td>\n      <td>25.805238</td>\n    </tr>\n    <tr>\n      <th>334</th>\n      <td>Autódromo Hermanos Rodríguez</td>\n      <td>ZHO</td>\n      <td>30.008333</td>\n      <td>30.008333</td>\n    </tr>\n  </tbody>\n</table>\n<p>335 rows × 4 columns</p>\n</div>"
     },
     "metadata": {},
     "execution_count": 237
    }
   ],
   "source": [
    "final_results"
   ]
  },
  {
   "cell_type": "code",
   "execution_count": 238,
   "metadata": {},
   "outputs": [
    {
     "output_type": "execute_result",
     "data": {
      "text/plain": "         pred_pos  pred_points\ndriver                        \nSTR     27.092781    27.092781\nALB     19.690357    19.690357\nMAG     16.960583    16.960583\nGAS     14.198163    14.198163\nBOT     13.775737    13.775737\nRUS     10.041131    10.041131\nRAI      9.966972     9.966972\nNOR      8.994866     8.994866\nZHO      8.827810     8.827810\nTSU      7.154315     7.154315\nRIC      6.386602     6.386602\nGRO      5.774643     5.774643\nVER     -0.113793    -0.113793\nVET     -0.842707    -0.842707\nHUL     -2.628300    -2.628300\nPER     -4.924929    -4.924929\nSAI     -5.795831    -5.795831\nOCO     -6.512212    -6.512212\nLEC    -14.733296   -14.733296\nHAM    -16.878234   -16.878234\nALO    -19.365796   -19.365796",
      "text/html": "<div>\n<style scoped>\n    .dataframe tbody tr th:only-of-type {\n        vertical-align: middle;\n    }\n\n    .dataframe tbody tr th {\n        vertical-align: top;\n    }\n\n    .dataframe thead th {\n        text-align: right;\n    }\n</style>\n<table border=\"1\" class=\"dataframe\">\n  <thead>\n    <tr style=\"text-align: right;\">\n      <th></th>\n      <th>pred_pos</th>\n      <th>pred_points</th>\n    </tr>\n    <tr>\n      <th>driver</th>\n      <th></th>\n      <th></th>\n    </tr>\n  </thead>\n  <tbody>\n    <tr>\n      <th>STR</th>\n      <td>27.092781</td>\n      <td>27.092781</td>\n    </tr>\n    <tr>\n      <th>ALB</th>\n      <td>19.690357</td>\n      <td>19.690357</td>\n    </tr>\n    <tr>\n      <th>MAG</th>\n      <td>16.960583</td>\n      <td>16.960583</td>\n    </tr>\n    <tr>\n      <th>GAS</th>\n      <td>14.198163</td>\n      <td>14.198163</td>\n    </tr>\n    <tr>\n      <th>BOT</th>\n      <td>13.775737</td>\n      <td>13.775737</td>\n    </tr>\n    <tr>\n      <th>RUS</th>\n      <td>10.041131</td>\n      <td>10.041131</td>\n    </tr>\n    <tr>\n      <th>RAI</th>\n      <td>9.966972</td>\n      <td>9.966972</td>\n    </tr>\n    <tr>\n      <th>NOR</th>\n      <td>8.994866</td>\n      <td>8.994866</td>\n    </tr>\n    <tr>\n      <th>ZHO</th>\n      <td>8.827810</td>\n      <td>8.827810</td>\n    </tr>\n    <tr>\n      <th>TSU</th>\n      <td>7.154315</td>\n      <td>7.154315</td>\n    </tr>\n    <tr>\n      <th>RIC</th>\n      <td>6.386602</td>\n      <td>6.386602</td>\n    </tr>\n    <tr>\n      <th>GRO</th>\n      <td>5.774643</td>\n      <td>5.774643</td>\n    </tr>\n    <tr>\n      <th>VER</th>\n      <td>-0.113793</td>\n      <td>-0.113793</td>\n    </tr>\n    <tr>\n      <th>VET</th>\n      <td>-0.842707</td>\n      <td>-0.842707</td>\n    </tr>\n    <tr>\n      <th>HUL</th>\n      <td>-2.628300</td>\n      <td>-2.628300</td>\n    </tr>\n    <tr>\n      <th>PER</th>\n      <td>-4.924929</td>\n      <td>-4.924929</td>\n    </tr>\n    <tr>\n      <th>SAI</th>\n      <td>-5.795831</td>\n      <td>-5.795831</td>\n    </tr>\n    <tr>\n      <th>OCO</th>\n      <td>-6.512212</td>\n      <td>-6.512212</td>\n    </tr>\n    <tr>\n      <th>LEC</th>\n      <td>-14.733296</td>\n      <td>-14.733296</td>\n    </tr>\n    <tr>\n      <th>HAM</th>\n      <td>-16.878234</td>\n      <td>-16.878234</td>\n    </tr>\n    <tr>\n      <th>ALO</th>\n      <td>-19.365796</td>\n      <td>-19.365796</td>\n    </tr>\n  </tbody>\n</table>\n</div>"
     },
     "metadata": {},
     "execution_count": 238
    }
   ],
   "source": [
    "final_results.groupby('driver').sum().sort_values(by=['pred_points'], ascending=False)"
   ]
  },
  {
   "cell_type": "code",
   "execution_count": null,
   "metadata": {},
   "outputs": [],
   "source": [
    "# because only "
   ]
  },
  {
   "cell_type": "code",
   "execution_count": 98,
   "metadata": {},
   "outputs": [
    {
     "output_type": "error",
     "ename": "ValueError",
     "evalue": "X has 55 features, but MLPRegressor is expecting 51 features as input.",
     "traceback": [
      "\u001b[1;31m---------------------------------------------------------------------------\u001b[0m",
      "\u001b[1;31mValueError\u001b[0m                                Traceback (most recent call last)",
      "Input \u001b[1;32mIn [98]\u001b[0m, in \u001b[0;36m<cell line: 13>\u001b[1;34m()\u001b[0m\n\u001b[0;32m     67\u001b[0m one_hot_circuit\u001b[38;5;241m.\u001b[39mloc[indices_to_replace, \u001b[38;5;124m'\u001b[39m\u001b[38;5;124mqualifyingPos\u001b[39m\u001b[38;5;124m'\u001b[39m] \u001b[38;5;241m=\u001b[39m \u001b[38;5;241m0\u001b[39m\n\u001b[0;32m     69\u001b[0m \u001b[38;5;66;03m# predict on the circuit\u001b[39;00m\n\u001b[1;32m---> 70\u001b[0m pred_vals \u001b[38;5;241m=\u001b[39m standard_scaler_unscale(\u001b[43mregr\u001b[49m\u001b[38;5;241;43m.\u001b[39;49m\u001b[43mpredict\u001b[49m\u001b[43m(\u001b[49m\u001b[43mone_hot_circuit\u001b[49m\u001b[43m)\u001b[49m, one_hot_encoded_data\u001b[38;5;241m.\u001b[39mposition\u001b[38;5;241m.\u001b[39mmean(), \n\u001b[0;32m     71\u001b[0m                                         one_hot_encoded_data\u001b[38;5;241m.\u001b[39mposition\u001b[38;5;241m.\u001b[39mstd())\u001b[38;5;241m.\u001b[39mastype(np\u001b[38;5;241m.\u001b[39mint32)\n\u001b[0;32m     72\u001b[0m one_hot_circuit[\u001b[38;5;124m'\u001b[39m\u001b[38;5;124mall_preds\u001b[39m\u001b[38;5;124m'\u001b[39m] \u001b[38;5;241m=\u001b[39m pred_vals     \n\u001b[0;32m     74\u001b[0m \u001b[38;5;28;01mfor\u001b[39;00m driver \u001b[38;5;129;01min\u001b[39;00m drivers:\n\u001b[0;32m     75\u001b[0m \n\u001b[0;32m     76\u001b[0m     \u001b[38;5;66;03m# find the median position for each driver\u001b[39;00m\n",
      "File \u001b[1;32m~\\Anaconda3\\envs\\en685648\\lib\\site-packages\\sklearn\\neural_network\\_multilayer_perceptron.py:1591\u001b[0m, in \u001b[0;36mMLPRegressor.predict\u001b[1;34m(self, X)\u001b[0m\n\u001b[0;32m   1578\u001b[0m \u001b[38;5;124;03m\"\"\"Predict using the multi-layer perceptron model.\u001b[39;00m\n\u001b[0;32m   1579\u001b[0m \n\u001b[0;32m   1580\u001b[0m \u001b[38;5;124;03mParameters\u001b[39;00m\n\u001b[1;32m   (...)\u001b[0m\n\u001b[0;32m   1588\u001b[0m \u001b[38;5;124;03m    The predicted values.\u001b[39;00m\n\u001b[0;32m   1589\u001b[0m \u001b[38;5;124;03m\"\"\"\u001b[39;00m\n\u001b[0;32m   1590\u001b[0m check_is_fitted(\u001b[38;5;28mself\u001b[39m)\n\u001b[1;32m-> 1591\u001b[0m y_pred \u001b[38;5;241m=\u001b[39m \u001b[38;5;28;43mself\u001b[39;49m\u001b[38;5;241;43m.\u001b[39;49m\u001b[43m_forward_pass_fast\u001b[49m\u001b[43m(\u001b[49m\u001b[43mX\u001b[49m\u001b[43m)\u001b[49m\n\u001b[0;32m   1592\u001b[0m \u001b[38;5;28;01mif\u001b[39;00m y_pred\u001b[38;5;241m.\u001b[39mshape[\u001b[38;5;241m1\u001b[39m] \u001b[38;5;241m==\u001b[39m \u001b[38;5;241m1\u001b[39m:\n\u001b[0;32m   1593\u001b[0m     \u001b[38;5;28;01mreturn\u001b[39;00m y_pred\u001b[38;5;241m.\u001b[39mravel()\n",
      "File \u001b[1;32m~\\Anaconda3\\envs\\en685648\\lib\\site-packages\\sklearn\\neural_network\\_multilayer_perceptron.py:160\u001b[0m, in \u001b[0;36mBaseMultilayerPerceptron._forward_pass_fast\u001b[1;34m(self, X)\u001b[0m\n\u001b[0;32m    144\u001b[0m \u001b[38;5;28;01mdef\u001b[39;00m \u001b[38;5;21m_forward_pass_fast\u001b[39m(\u001b[38;5;28mself\u001b[39m, X):\n\u001b[0;32m    145\u001b[0m     \u001b[38;5;124;03m\"\"\"Predict using the trained model\u001b[39;00m\n\u001b[0;32m    146\u001b[0m \n\u001b[0;32m    147\u001b[0m \u001b[38;5;124;03m    This is the same as _forward_pass but does not record the activations\u001b[39;00m\n\u001b[1;32m   (...)\u001b[0m\n\u001b[0;32m    158\u001b[0m \u001b[38;5;124;03m        The decision function of the samples for each class in the model.\u001b[39;00m\n\u001b[0;32m    159\u001b[0m \u001b[38;5;124;03m    \"\"\"\u001b[39;00m\n\u001b[1;32m--> 160\u001b[0m     X \u001b[38;5;241m=\u001b[39m \u001b[38;5;28;43mself\u001b[39;49m\u001b[38;5;241;43m.\u001b[39;49m\u001b[43m_validate_data\u001b[49m\u001b[43m(\u001b[49m\u001b[43mX\u001b[49m\u001b[43m,\u001b[49m\u001b[43m \u001b[49m\u001b[43maccept_sparse\u001b[49m\u001b[38;5;241;43m=\u001b[39;49m\u001b[43m[\u001b[49m\u001b[38;5;124;43m\"\u001b[39;49m\u001b[38;5;124;43mcsr\u001b[39;49m\u001b[38;5;124;43m\"\u001b[39;49m\u001b[43m,\u001b[49m\u001b[43m \u001b[49m\u001b[38;5;124;43m\"\u001b[39;49m\u001b[38;5;124;43mcsc\u001b[39;49m\u001b[38;5;124;43m\"\u001b[39;49m\u001b[43m]\u001b[49m\u001b[43m,\u001b[49m\u001b[43m \u001b[49m\u001b[43mreset\u001b[49m\u001b[38;5;241;43m=\u001b[39;49m\u001b[38;5;28;43;01mFalse\u001b[39;49;00m\u001b[43m)\u001b[49m\n\u001b[0;32m    162\u001b[0m     \u001b[38;5;66;03m# Initialize first layer\u001b[39;00m\n\u001b[0;32m    163\u001b[0m     activation \u001b[38;5;241m=\u001b[39m X\n",
      "File \u001b[1;32m~\\Anaconda3\\envs\\en685648\\lib\\site-packages\\sklearn\\base.py:600\u001b[0m, in \u001b[0;36mBaseEstimator._validate_data\u001b[1;34m(self, X, y, reset, validate_separately, **check_params)\u001b[0m\n\u001b[0;32m    597\u001b[0m     out \u001b[38;5;241m=\u001b[39m X, y\n\u001b[0;32m    599\u001b[0m \u001b[38;5;28;01mif\u001b[39;00m \u001b[38;5;129;01mnot\u001b[39;00m no_val_X \u001b[38;5;129;01mand\u001b[39;00m check_params\u001b[38;5;241m.\u001b[39mget(\u001b[38;5;124m\"\u001b[39m\u001b[38;5;124mensure_2d\u001b[39m\u001b[38;5;124m\"\u001b[39m, \u001b[38;5;28;01mTrue\u001b[39;00m):\n\u001b[1;32m--> 600\u001b[0m     \u001b[38;5;28;43mself\u001b[39;49m\u001b[38;5;241;43m.\u001b[39;49m\u001b[43m_check_n_features\u001b[49m\u001b[43m(\u001b[49m\u001b[43mX\u001b[49m\u001b[43m,\u001b[49m\u001b[43m \u001b[49m\u001b[43mreset\u001b[49m\u001b[38;5;241;43m=\u001b[39;49m\u001b[43mreset\u001b[49m\u001b[43m)\u001b[49m\n\u001b[0;32m    602\u001b[0m \u001b[38;5;28;01mreturn\u001b[39;00m out\n",
      "File \u001b[1;32m~\\Anaconda3\\envs\\en685648\\lib\\site-packages\\sklearn\\base.py:400\u001b[0m, in \u001b[0;36mBaseEstimator._check_n_features\u001b[1;34m(self, X, reset)\u001b[0m\n\u001b[0;32m    397\u001b[0m     \u001b[38;5;28;01mreturn\u001b[39;00m\n\u001b[0;32m    399\u001b[0m \u001b[38;5;28;01mif\u001b[39;00m n_features \u001b[38;5;241m!=\u001b[39m \u001b[38;5;28mself\u001b[39m\u001b[38;5;241m.\u001b[39mn_features_in_:\n\u001b[1;32m--> 400\u001b[0m     \u001b[38;5;28;01mraise\u001b[39;00m \u001b[38;5;167;01mValueError\u001b[39;00m(\n\u001b[0;32m    401\u001b[0m         \u001b[38;5;124mf\u001b[39m\u001b[38;5;124m\"\u001b[39m\u001b[38;5;124mX has \u001b[39m\u001b[38;5;132;01m{\u001b[39;00mn_features\u001b[38;5;132;01m}\u001b[39;00m\u001b[38;5;124m features, but \u001b[39m\u001b[38;5;132;01m{\u001b[39;00m\u001b[38;5;28mself\u001b[39m\u001b[38;5;241m.\u001b[39m\u001b[38;5;18m__class__\u001b[39m\u001b[38;5;241m.\u001b[39m\u001b[38;5;18m__name__\u001b[39m\u001b[38;5;132;01m}\u001b[39;00m\u001b[38;5;124m \u001b[39m\u001b[38;5;124m\"\u001b[39m\n\u001b[0;32m    402\u001b[0m         \u001b[38;5;124mf\u001b[39m\u001b[38;5;124m\"\u001b[39m\u001b[38;5;124mis expecting \u001b[39m\u001b[38;5;132;01m{\u001b[39;00m\u001b[38;5;28mself\u001b[39m\u001b[38;5;241m.\u001b[39mn_features_in_\u001b[38;5;132;01m}\u001b[39;00m\u001b[38;5;124m features as input.\u001b[39m\u001b[38;5;124m\"\u001b[39m\n\u001b[0;32m    403\u001b[0m     )\n",
      "\u001b[1;31mValueError\u001b[0m: X has 55 features, but MLPRegressor is expecting 51 features as input."
     ]
    }
   ],
   "source": [
    "# iterate through entire dataset\n",
    "\n",
    "all_preds = []\n",
    "\n",
    "# create a dataframe to store the results\n",
    "final_results = pd.DataFrame(columns=['circuit', 'driver', 'pred_pos'])\n",
    "\n",
    "for circuit in current_circuits: \n",
    "\n",
    "    # create model specific to a circuit\n",
    "    circuit_data = data_train.loc[data_train['circuit'] == circuit]\n",
    "    one_hot_encoded_data = pd.get_dummies(circuit_data, columns = ['circuit', 'constructor', 'driver', 'teammate'])\n",
    "    data_train_scaled = one_hot_encoded_data.copy()\n",
    "    data_train_scaled.qualifyingPos = standard_scaler_scale(one_hot_encoded_data.qualifyingPos)\n",
    "    data_train_scaled.position = standard_scaler_scale(one_hot_encoded_data.position)\n",
    "\n",
    "    train_set = data_train_scaled[data_train_scaled.year != 2023]\n",
    "    test_set = data_train_scaled[data_train_scaled.year == 2023]\n",
    "\n",
    "    X_train = train_set.drop(['position', 'year', 'points'],axis = 1)\n",
    "    y_train = train_set['position']\n",
    "\n",
    "    regr = MLPRegressor(\n",
    "        hidden_layer_sizes=(500, 250, 100, 50), \n",
    "        max_iter=500,\n",
    "        random_state=203043043\n",
    "        ).fit(X_train, y_train)\n",
    "\n",
    "\n",
    "    # get the data specific to the circuit\n",
    "\n",
    "    # do one hot encoding requires all possible combinations to be same as training set\n",
    "    circuit_permutation = cleaned_permutations.loc[(cleaned_permutations['circuit'] == circuit)]\n",
    "    one_hot_circuit = pd.get_dummies(circuit_permutation, columns = ['circuit', 'constructor', 'driver', 'teammate'])\n",
    "\n",
    "    # remove drivers and teammates that don't exist for the circuit for 2023\n",
    "\n",
    "    not_teammates_and_drivers = []\n",
    "    for driver in train_set.drivers.unique():\n",
    "        if driver not in current_drivers:\n",
    "            not_teammates_and_drivers.append('driver_'+ driver)\n",
    "    for teammate in train_set.teammate.unique():\n",
    "        if teammate not in current_teammates:\n",
    "            not_teammates_and_drivers.append('teammate_'+teammate)\n",
    "\n",
    "    one_hot_circuit = one_hot_circuit.drop(not_teammates_and_drivers)\n",
    "\n",
    "    # current_circuit_data = one_hot_circuit.loc[one_hot_circuit['circuit_'+circuit] == 1]\n",
    "\n",
    "\n",
    "    # need to randomly make a couple qualifying positions dnq\n",
    "    dnf_rate = dnf_circuit.loc[dnf_circuit['circuit'] == circuit]['percentDnf'].iloc[0]\n",
    "\n",
    "    num_values_to_replace = int(dnf_rate * len(one_hot_circuit['qualifyingPos']))\n",
    "    indices_to_replace = np.random.choice(one_hot_circuit.index, num_values_to_replace, replace=False)\n",
    "    one_hot_circuit.loc[indices_to_replace, 'qualifyingPos'] = 0\n",
    "\n",
    "    # predict on the circuit\n",
    "    pred_vals = standard_scaler_unscale(regr.predict(one_hot_circuit), one_hot_encoded_data.position.mean(), \n",
    "                                            one_hot_encoded_data.position.std()).astype(np.int32)\n",
    "    one_hot_circuit['all_preds'] = pred_vals     \n",
    "\n",
    "    for driver in drivers:\n",
    "\n",
    "        # find the median position for each driver\n",
    "        med_pos = one_hot_circuit.loc[one_hot_circuit['driver_'+driver] == 1]['all_preds'].median()\n",
    "        # add the results to the dataframe\n",
    "        final_results = final_results.append({'circuit': circuit, 'driver': driver, 'pred_pos': med_pos}, ignore_index=True)  \n",
    "\n",
    "final_results['pred_points'] = final_results['pred_pos']   \n",
    "final_results['pred_points'] = final_results['pred_points'].replace({1.0: 25, 2.0: 18, 3.0: 15, 4.0: 12, 5.0: 10, 6.0: 8, 7.0: 6, 8.0: 4, 9.0: 2, 10.0: 1})   \n"
   ]
  },
  {
   "cell_type": "code",
   "execution_count": null,
   "metadata": {},
   "outputs": [],
   "source": [
    "final_results"
   ]
  },
  {
   "cell_type": "code",
   "execution_count": null,
   "metadata": {},
   "outputs": [],
   "source": [
    "final_results.groupby('driver').sum().sort_values(by=['pred_points'], ascending=False)"
   ]
  },
  {
   "cell_type": "markdown",
   "metadata": {},
   "source": [
    "# Permutation Test for Significance"
   ]
  },
  {
   "cell_type": "markdown",
   "metadata": {},
   "source": [
    "Our null hypothesis is that there is no correlation between the predicted final leaderboard and the observered final leaderboard, which means that any observered correlation is due to chance."
   ]
  },
  {
   "cell_type": "code",
   "execution_count": 150,
   "metadata": {},
   "outputs": [
    {
     "output_type": "stream",
     "name": "stdout",
     "text": "Observed Kendall's Tau: 0.24183006535947715\nP-value: 0.1678\n"
    }
   ],
   "source": [
    "# do a permutation test using kendalltau\n",
    "from scipy.stats import kendalltau\n",
    "\n",
    "def kendall_permutation_test(observed, predicted, num_permutations=10000):\n",
    "    name_to_rank = {name: rank for rank, name in enumerate(observed, start=1)}\n",
    "\n",
    "    observed_ranks = np.array([name_to_rank[name] for name in observed])\n",
    "    predicted_ranks = np.array([name_to_rank[name] for name in predicted])\n",
    "\n",
    "    observed_tau, _ = kendalltau(observed_ranks, predicted_ranks)\n",
    "\n",
    "    permuted_taus = np.zeros(num_permutations)\n",
    "\n",
    "    for i in range(num_permutations):\n",
    "        permuted_predicted_ranks = np.random.permutation(predicted_ranks)\n",
    "        permuted_tau, _ = kendalltau(observed_ranks, permuted_predicted_ranks)\n",
    "        permuted_taus[i] = permuted_tau\n",
    "\n",
    "    p_value = np.mean(np.abs(permuted_taus) >= np.abs(observed_tau))\n",
    "\n",
    "    return observed_tau, p_value\n",
    "\n",
    "actual_rankings = list(data_train.loc[data_train['year'] == 2023].groupby('driver').sum().sort_values(by=['points'], ascending=False).index)\n",
    "predicted_rankings = list(final_results.groupby('driver').sum().sort_values(by=['pred_points'], ascending=False).index[:-3])\n",
    "\n",
    "observed_tau, p_value = kendall_permutation_test(actual_rankings, predicted_rankings)\n",
    "print(f\"Observed Kendall's Tau: {observed_tau}\")\n",
    "print(f\"P-value: {p_value}\")\n"
   ]
  },
  {
   "cell_type": "markdown",
   "metadata": {},
   "source": [
    "Based on our p-value of 0.1678, we fail to reject the null hypothesis, which means that there is no correlation between the predicted leaderboard and observered leaderboard."
   ]
  },
  {
   "cell_type": "code",
   "execution_count": 149,
   "metadata": {},
   "outputs": [
    {
     "output_type": "stream",
     "name": "stdout",
     "text": "Observed Spearman's Rho: 0.3168214654282766\nP-value: 0.2025\n"
    }
   ],
   "source": [
    "from scipy.stats import spearmanr\n",
    "\n",
    "def spearman_permutation_test(observed, predicted, num_permutations=10000):\n",
    "\n",
    "    name_to_rank = {name: rank for rank, name in enumerate(observed, start=1)}\n",
    "\n",
    "    observed_ranks = np.array([name_to_rank[name] for name in observed])\n",
    "    predicted_ranks = np.array([name_to_rank[name] for name in predicted])\n",
    "\n",
    "    observed_rho, _ = spearmanr(observed_ranks, predicted_ranks)\n",
    "\n",
    "    permuted_rhos = np.zeros(num_permutations)\n",
    "\n",
    "    for i in range(num_permutations):\n",
    "        permuted_predicted_ranks = np.random.permutation(predicted_ranks)\n",
    "        permuted_rho, _ = spearmanr(observed_ranks, permuted_predicted_ranks)\n",
    "        permuted_rhos[i] = permuted_rho\n",
    "\n",
    "    p_value = np.mean(np.abs(permuted_rhos) >= np.abs(observed_rho))\n",
    "\n",
    "    return observed_rho, p_value\n",
    "\n",
    "actual_rankings = list(data_train.loc[data_train['year'] == 2023].groupby('driver').sum().sort_values(by=['points'], ascending=False).index)\n",
    "predicted_rankings = list(final_results.groupby('driver').sum().sort_values(by=['pred_points'], ascending=False).index[:-3])\n",
    "\n",
    "observed_rho, p_value = spearman_permutation_test(actual_rankings, predicted_rankings)\n",
    "print(f\"Observed Spearman's Rho: {observed_rho}\")\n",
    "print(f\"P-value: {p_value}\")\n"
   ]
  },
  {
   "cell_type": "code",
   "execution_count": 155,
   "metadata": {},
   "outputs": [
    {
     "output_type": "execute_result",
     "data": {
      "text/plain": "        pred_points\ndriver             \nHAM           293.0\nALO           289.0\nLEC           273.0\nTSU           252.0\nVER           232.0\nRUS           229.0\nSTR           229.0\nHUL           226.0\nMAG           211.0\nGAS           196.0\nNOR           193.0\nSAI           193.0\nRIC           189.0\nALB           185.0\nOCO           178.0\nZHO           174.0\nBOT           171.0\nPER           145.0",
      "text/html": "<div>\n<style scoped>\n    .dataframe tbody tr th:only-of-type {\n        vertical-align: middle;\n    }\n\n    .dataframe tbody tr th {\n        vertical-align: top;\n    }\n\n    .dataframe thead th {\n        text-align: right;\n    }\n</style>\n<table border=\"1\" class=\"dataframe\">\n  <thead>\n    <tr style=\"text-align: right;\">\n      <th></th>\n      <th>pred_points</th>\n    </tr>\n    <tr>\n      <th>driver</th>\n      <th></th>\n    </tr>\n  </thead>\n  <tbody>\n    <tr>\n      <th>HAM</th>\n      <td>293.0</td>\n    </tr>\n    <tr>\n      <th>ALO</th>\n      <td>289.0</td>\n    </tr>\n    <tr>\n      <th>LEC</th>\n      <td>273.0</td>\n    </tr>\n    <tr>\n      <th>TSU</th>\n      <td>252.0</td>\n    </tr>\n    <tr>\n      <th>VER</th>\n      <td>232.0</td>\n    </tr>\n    <tr>\n      <th>RUS</th>\n      <td>229.0</td>\n    </tr>\n    <tr>\n      <th>STR</th>\n      <td>229.0</td>\n    </tr>\n    <tr>\n      <th>HUL</th>\n      <td>226.0</td>\n    </tr>\n    <tr>\n      <th>MAG</th>\n      <td>211.0</td>\n    </tr>\n    <tr>\n      <th>GAS</th>\n      <td>196.0</td>\n    </tr>\n    <tr>\n      <th>NOR</th>\n      <td>193.0</td>\n    </tr>\n    <tr>\n      <th>SAI</th>\n      <td>193.0</td>\n    </tr>\n    <tr>\n      <th>RIC</th>\n      <td>189.0</td>\n    </tr>\n    <tr>\n      <th>ALB</th>\n      <td>185.0</td>\n    </tr>\n    <tr>\n      <th>OCO</th>\n      <td>178.0</td>\n    </tr>\n    <tr>\n      <th>ZHO</th>\n      <td>174.0</td>\n    </tr>\n    <tr>\n      <th>BOT</th>\n      <td>171.0</td>\n    </tr>\n    <tr>\n      <th>PER</th>\n      <td>145.0</td>\n    </tr>\n  </tbody>\n</table>\n</div>"
     },
     "metadata": {},
     "execution_count": 155
    }
   ],
   "source": [
    "pd.DataFrame(final_results.groupby('driver').sum().sort_values(by=['pred_points'], ascending=False)['pred_points'][:-3])"
   ]
  },
  {
   "cell_type": "code",
   "execution_count": null,
   "metadata": {},
   "outputs": [],
   "source": []
  }
 ],
 "metadata": {
  "language_info": {
   "codemirror_mode": {
    "name": "ipython",
    "version": 3
   },
   "file_extension": ".py",
   "mimetype": "text/x-python",
   "name": "python",
   "nbconvert_exporter": "python",
   "pygments_lexer": "ipython3",
   "version": "3.10.6-final"
  },
  "orig_nbformat": 2,
  "kernelspec": {
   "name": "en685648",
   "display_name": "Python (en685648)"
  }
 },
 "nbformat": 4,
 "nbformat_minor": 2
}