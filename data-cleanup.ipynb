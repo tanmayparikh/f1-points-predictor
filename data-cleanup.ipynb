{
 "cells": [
  {
   "cell_type": "markdown",
   "metadata": {},
   "source": [
    "# F1 Points Predictor"
   ]
  },
  {
   "cell_type": "code",
   "execution_count": 2,
   "metadata": {},
   "outputs": [],
   "source": [
    "import sqlite3\n",
    "import pandas as pd\n",
    "import scipy.stats as ss\n",
    "import numpy as np\n",
    "from matplotlib import pyplot as plt"
   ]
  },
  {
   "cell_type": "code",
   "execution_count": 3,
   "metadata": {},
   "outputs": [],
   "source": [
    "START_YEAR = 2010\n",
    "\n",
    "CIRCUITS = [\n",
    "    \"bahrain\",\n",
    "    \"jeddah\",\n",
    "    \"albert_park\",\n",
    "    \"baku\",\n",
    "    \"imola\",\n",
    "    \"monaco\",\n",
    "    \"catalunya\",\n",
    "    \"villeneuve\",\n",
    "    \"red_bull_ring\",\n",
    "    \"silverstone\",\n",
    "    \"hungaroring\",\n",
    "    \"spa\",\n",
    "    \"suzuka\",\n",
    "    \"monza\",\n",
    "    \"marina_bay\",\n",
    "    \"americas\",\n",
    "    \"rodriguez\",\n",
    "    \"interlagos\",\n",
    "    \"yas_marina\"\n",
    "]\n",
    "\n",
    "DRIVERS = [\n",
    "    \"max_verstappen\",\n",
    "    \"perez\",\n",
    "    \"hamilton\",\n",
    "    \"sainz\",\n",
    "    \"alonso\",\n",
    "    \"norris\",\n",
    "    \"leclerc\",\n",
    "    \"russell\",\n",
    "    \"stroll\",\n",
    "    \"gasly\",\n",
    "    \"ocon\",\n",
    "    \"albon\",\n",
    "    \"tsunoda\",\n",
    "    \"bottas\",\n",
    "    \"hulkenberg\",\n",
    "    \"ricciardo\",\n",
    "    \"zhou\",\n",
    "    \"kevin_magnussen\",\n",
    "    \"vettel\",\n",
    "    \"raikkonen\",\n",
    "    \"grosjean\"\n",
    "]\n",
    "\n",
    "circuits_csv = \",\".join(f\"\\\"{c}\\\"\" for c in CIRCUITS)\n",
    "drivers_csv = \",\".join(f\"\\\"{d}\\\"\" for d in DRIVERS)"
   ]
  },
  {
   "cell_type": "code",
   "execution_count": 4,
   "metadata": {},
   "outputs": [],
   "source": [
    "con = sqlite3.connect(\"f1.sql\")\n",
    "cur = con.cursor()"
   ]
  },
  {
   "cell_type": "markdown",
   "metadata": {},
   "source": [
    "## Data Organization & Cleanup\n",
    "\n",
    "Get all results from `START_YEAR` to present for the given `CIRCUITS` & `DRIVERS`"
   ]
  },
  {
   "cell_type": "code",
   "execution_count": 5,
   "metadata": {},
   "outputs": [
    {
     "output_type": "execute_result",
     "data": {
      "text/plain": "    circuitId                            name\n0           1  Albert Park Grand Prix Circuit\n1           3   Bahrain International Circuit\n2           4  Circuit de Barcelona-Catalunya\n3           6               Circuit de Monaco\n4           7       Circuit Gilles Villeneuve\n5           9             Silverstone Circuit\n6          11                     Hungaroring\n7          13    Circuit de Spa-Francorchamps\n8          14    Autodromo Nazionale di Monza\n9          15       Marina Bay Street Circuit\n10         18      Autódromo José Carlos Pace\n11         21   Autodromo Enzo e Dino Ferrari\n12         22                  Suzuka Circuit\n13         24              Yas Marina Circuit\n14         32    Autódromo Hermanos Rodríguez\n15         69         Circuit of the Americas\n16         70                   Red Bull Ring\n17         73               Baku City Circuit\n18         77         Jeddah Corniche Circuit",
      "text/html": "<div>\n<style scoped>\n    .dataframe tbody tr th:only-of-type {\n        vertical-align: middle;\n    }\n\n    .dataframe tbody tr th {\n        vertical-align: top;\n    }\n\n    .dataframe thead th {\n        text-align: right;\n    }\n</style>\n<table border=\"1\" class=\"dataframe\">\n  <thead>\n    <tr style=\"text-align: right;\">\n      <th></th>\n      <th>circuitId</th>\n      <th>name</th>\n    </tr>\n  </thead>\n  <tbody>\n    <tr>\n      <th>0</th>\n      <td>1</td>\n      <td>Albert Park Grand Prix Circuit</td>\n    </tr>\n    <tr>\n      <th>1</th>\n      <td>3</td>\n      <td>Bahrain International Circuit</td>\n    </tr>\n    <tr>\n      <th>2</th>\n      <td>4</td>\n      <td>Circuit de Barcelona-Catalunya</td>\n    </tr>\n    <tr>\n      <th>3</th>\n      <td>6</td>\n      <td>Circuit de Monaco</td>\n    </tr>\n    <tr>\n      <th>4</th>\n      <td>7</td>\n      <td>Circuit Gilles Villeneuve</td>\n    </tr>\n    <tr>\n      <th>5</th>\n      <td>9</td>\n      <td>Silverstone Circuit</td>\n    </tr>\n    <tr>\n      <th>6</th>\n      <td>11</td>\n      <td>Hungaroring</td>\n    </tr>\n    <tr>\n      <th>7</th>\n      <td>13</td>\n      <td>Circuit de Spa-Francorchamps</td>\n    </tr>\n    <tr>\n      <th>8</th>\n      <td>14</td>\n      <td>Autodromo Nazionale di Monza</td>\n    </tr>\n    <tr>\n      <th>9</th>\n      <td>15</td>\n      <td>Marina Bay Street Circuit</td>\n    </tr>\n    <tr>\n      <th>10</th>\n      <td>18</td>\n      <td>Autódromo José Carlos Pace</td>\n    </tr>\n    <tr>\n      <th>11</th>\n      <td>21</td>\n      <td>Autodromo Enzo e Dino Ferrari</td>\n    </tr>\n    <tr>\n      <th>12</th>\n      <td>22</td>\n      <td>Suzuka Circuit</td>\n    </tr>\n    <tr>\n      <th>13</th>\n      <td>24</td>\n      <td>Yas Marina Circuit</td>\n    </tr>\n    <tr>\n      <th>14</th>\n      <td>32</td>\n      <td>Autódromo Hermanos Rodríguez</td>\n    </tr>\n    <tr>\n      <th>15</th>\n      <td>69</td>\n      <td>Circuit of the Americas</td>\n    </tr>\n    <tr>\n      <th>16</th>\n      <td>70</td>\n      <td>Red Bull Ring</td>\n    </tr>\n    <tr>\n      <th>17</th>\n      <td>73</td>\n      <td>Baku City Circuit</td>\n    </tr>\n    <tr>\n      <th>18</th>\n      <td>77</td>\n      <td>Jeddah Corniche Circuit</td>\n    </tr>\n  </tbody>\n</table>\n</div>"
     },
     "metadata": {},
     "execution_count": 5
    }
   ],
   "source": [
    "circuits = pd.read_sql(\n",
    "    f\"SELECT circuitId, name FROM circuits WHERE circuitRef IN ({circuits_csv})\",\n",
    "    con\n",
    ")\n",
    "\n",
    "circuits"
   ]
  },
  {
   "cell_type": "code",
   "execution_count": 6,
   "metadata": {},
   "outputs": [
    {
     "output_type": "execute_result",
     "data": {
      "text/plain": "    driverId code\n0          1  HAM\n1          4  ALO\n2          8  RAI\n3         20  VET\n4        154  GRO\n5        807  HUL\n6        815  PER\n7        817  RIC\n8        822  BOT\n9        825  MAG\n10       830  VER\n11       832  SAI\n12       839  OCO\n13       840  STR\n14       842  GAS\n15       844  LEC\n16       846  NOR\n17       847  RUS\n18       848  ALB\n19       852  TSU\n20       855  ZHO",
      "text/html": "<div>\n<style scoped>\n    .dataframe tbody tr th:only-of-type {\n        vertical-align: middle;\n    }\n\n    .dataframe tbody tr th {\n        vertical-align: top;\n    }\n\n    .dataframe thead th {\n        text-align: right;\n    }\n</style>\n<table border=\"1\" class=\"dataframe\">\n  <thead>\n    <tr style=\"text-align: right;\">\n      <th></th>\n      <th>driverId</th>\n      <th>code</th>\n    </tr>\n  </thead>\n  <tbody>\n    <tr>\n      <th>0</th>\n      <td>1</td>\n      <td>HAM</td>\n    </tr>\n    <tr>\n      <th>1</th>\n      <td>4</td>\n      <td>ALO</td>\n    </tr>\n    <tr>\n      <th>2</th>\n      <td>8</td>\n      <td>RAI</td>\n    </tr>\n    <tr>\n      <th>3</th>\n      <td>20</td>\n      <td>VET</td>\n    </tr>\n    <tr>\n      <th>4</th>\n      <td>154</td>\n      <td>GRO</td>\n    </tr>\n    <tr>\n      <th>5</th>\n      <td>807</td>\n      <td>HUL</td>\n    </tr>\n    <tr>\n      <th>6</th>\n      <td>815</td>\n      <td>PER</td>\n    </tr>\n    <tr>\n      <th>7</th>\n      <td>817</td>\n      <td>RIC</td>\n    </tr>\n    <tr>\n      <th>8</th>\n      <td>822</td>\n      <td>BOT</td>\n    </tr>\n    <tr>\n      <th>9</th>\n      <td>825</td>\n      <td>MAG</td>\n    </tr>\n    <tr>\n      <th>10</th>\n      <td>830</td>\n      <td>VER</td>\n    </tr>\n    <tr>\n      <th>11</th>\n      <td>832</td>\n      <td>SAI</td>\n    </tr>\n    <tr>\n      <th>12</th>\n      <td>839</td>\n      <td>OCO</td>\n    </tr>\n    <tr>\n      <th>13</th>\n      <td>840</td>\n      <td>STR</td>\n    </tr>\n    <tr>\n      <th>14</th>\n      <td>842</td>\n      <td>GAS</td>\n    </tr>\n    <tr>\n      <th>15</th>\n      <td>844</td>\n      <td>LEC</td>\n    </tr>\n    <tr>\n      <th>16</th>\n      <td>846</td>\n      <td>NOR</td>\n    </tr>\n    <tr>\n      <th>17</th>\n      <td>847</td>\n      <td>RUS</td>\n    </tr>\n    <tr>\n      <th>18</th>\n      <td>848</td>\n      <td>ALB</td>\n    </tr>\n    <tr>\n      <th>19</th>\n      <td>852</td>\n      <td>TSU</td>\n    </tr>\n    <tr>\n      <th>20</th>\n      <td>855</td>\n      <td>ZHO</td>\n    </tr>\n  </tbody>\n</table>\n</div>"
     },
     "metadata": {},
     "execution_count": 6
    }
   ],
   "source": [
    "drivers = pd.read_sql_query(\n",
    "    f\"SELECT driverId, code FROM drivers WHERE driverRef in ({drivers_csv})\",\n",
    "    con\n",
    ")\n",
    "\n",
    "drivers"
   ]
  },
  {
   "cell_type": "code",
   "execution_count": 7,
   "metadata": {},
   "outputs": [
    {
     "output_type": "execute_result",
     "data": {
      "text/plain": "      raceId                    race  year                         circuit  \\\n0        337      Bahrain Grand Prix  2010   Bahrain International Circuit   \n1        337      Bahrain Grand Prix  2010   Bahrain International Circuit   \n2        337      Bahrain Grand Prix  2010   Bahrain International Circuit   \n3        337      Bahrain Grand Prix  2010   Bahrain International Circuit   \n4        338   Australian Grand Prix  2010  Albert Park Grand Prix Circuit   \n...      ...                     ...   ...                             ...   \n2749    1117  Mexico City Grand Prix  2023    Autódromo Hermanos Rodríguez   \n2750    1117  Mexico City Grand Prix  2023    Autódromo Hermanos Rodríguez   \n2751    1117  Mexico City Grand Prix  2023    Autódromo Hermanos Rodríguez   \n2752    1117  Mexico City Grand Prix  2023    Autódromo Hermanos Rodríguez   \n2753    1117  Mexico City Grand Prix  2023    Autódromo Hermanos Rodríguez   \n\n       constructor driver  qualifyingPos  position  points  \n0          Ferrari    ALO              3       1.0    25.0  \n1          McLaren    HAM              4       3.0    15.0  \n2         Red Bull    VET              1       4.0    12.0  \n3         Williams    HUL             13      14.0     0.0  \n4          Ferrari    ALO              3       4.0    12.0  \n...            ...    ...            ...       ...     ...  \n2749    Alfa Romeo    BOT              9      15.0     0.0  \n2750  Aston Martin    STR              0      17.0     0.0  \n2751  Aston Martin    ALO             13       NaN     0.0  \n2752  Haas F1 Team    MAG             16       NaN     0.0  \n2753      Red Bull    PER              5       NaN     0.0  \n\n[2754 rows x 9 columns]",
      "text/html": "<div>\n<style scoped>\n    .dataframe tbody tr th:only-of-type {\n        vertical-align: middle;\n    }\n\n    .dataframe tbody tr th {\n        vertical-align: top;\n    }\n\n    .dataframe thead th {\n        text-align: right;\n    }\n</style>\n<table border=\"1\" class=\"dataframe\">\n  <thead>\n    <tr style=\"text-align: right;\">\n      <th></th>\n      <th>raceId</th>\n      <th>race</th>\n      <th>year</th>\n      <th>circuit</th>\n      <th>constructor</th>\n      <th>driver</th>\n      <th>qualifyingPos</th>\n      <th>position</th>\n      <th>points</th>\n    </tr>\n  </thead>\n  <tbody>\n    <tr>\n      <th>0</th>\n      <td>337</td>\n      <td>Bahrain Grand Prix</td>\n      <td>2010</td>\n      <td>Bahrain International Circuit</td>\n      <td>Ferrari</td>\n      <td>ALO</td>\n      <td>3</td>\n      <td>1.0</td>\n      <td>25.0</td>\n    </tr>\n    <tr>\n      <th>1</th>\n      <td>337</td>\n      <td>Bahrain Grand Prix</td>\n      <td>2010</td>\n      <td>Bahrain International Circuit</td>\n      <td>McLaren</td>\n      <td>HAM</td>\n      <td>4</td>\n      <td>3.0</td>\n      <td>15.0</td>\n    </tr>\n    <tr>\n      <th>2</th>\n      <td>337</td>\n      <td>Bahrain Grand Prix</td>\n      <td>2010</td>\n      <td>Bahrain International Circuit</td>\n      <td>Red Bull</td>\n      <td>VET</td>\n      <td>1</td>\n      <td>4.0</td>\n      <td>12.0</td>\n    </tr>\n    <tr>\n      <th>3</th>\n      <td>337</td>\n      <td>Bahrain Grand Prix</td>\n      <td>2010</td>\n      <td>Bahrain International Circuit</td>\n      <td>Williams</td>\n      <td>HUL</td>\n      <td>13</td>\n      <td>14.0</td>\n      <td>0.0</td>\n    </tr>\n    <tr>\n      <th>4</th>\n      <td>338</td>\n      <td>Australian Grand Prix</td>\n      <td>2010</td>\n      <td>Albert Park Grand Prix Circuit</td>\n      <td>Ferrari</td>\n      <td>ALO</td>\n      <td>3</td>\n      <td>4.0</td>\n      <td>12.0</td>\n    </tr>\n    <tr>\n      <th>...</th>\n      <td>...</td>\n      <td>...</td>\n      <td>...</td>\n      <td>...</td>\n      <td>...</td>\n      <td>...</td>\n      <td>...</td>\n      <td>...</td>\n      <td>...</td>\n    </tr>\n    <tr>\n      <th>2749</th>\n      <td>1117</td>\n      <td>Mexico City Grand Prix</td>\n      <td>2023</td>\n      <td>Autódromo Hermanos Rodríguez</td>\n      <td>Alfa Romeo</td>\n      <td>BOT</td>\n      <td>9</td>\n      <td>15.0</td>\n      <td>0.0</td>\n    </tr>\n    <tr>\n      <th>2750</th>\n      <td>1117</td>\n      <td>Mexico City Grand Prix</td>\n      <td>2023</td>\n      <td>Autódromo Hermanos Rodríguez</td>\n      <td>Aston Martin</td>\n      <td>STR</td>\n      <td>0</td>\n      <td>17.0</td>\n      <td>0.0</td>\n    </tr>\n    <tr>\n      <th>2751</th>\n      <td>1117</td>\n      <td>Mexico City Grand Prix</td>\n      <td>2023</td>\n      <td>Autódromo Hermanos Rodríguez</td>\n      <td>Aston Martin</td>\n      <td>ALO</td>\n      <td>13</td>\n      <td>NaN</td>\n      <td>0.0</td>\n    </tr>\n    <tr>\n      <th>2752</th>\n      <td>1117</td>\n      <td>Mexico City Grand Prix</td>\n      <td>2023</td>\n      <td>Autódromo Hermanos Rodríguez</td>\n      <td>Haas F1 Team</td>\n      <td>MAG</td>\n      <td>16</td>\n      <td>NaN</td>\n      <td>0.0</td>\n    </tr>\n    <tr>\n      <th>2753</th>\n      <td>1117</td>\n      <td>Mexico City Grand Prix</td>\n      <td>2023</td>\n      <td>Autódromo Hermanos Rodríguez</td>\n      <td>Red Bull</td>\n      <td>PER</td>\n      <td>5</td>\n      <td>NaN</td>\n      <td>0.0</td>\n    </tr>\n  </tbody>\n</table>\n<p>2754 rows × 9 columns</p>\n</div>"
     },
     "metadata": {},
     "execution_count": 7
    }
   ],
   "source": [
    "circuit_ids = \",\".join(f\"{cId}\" for cId in circuits.circuitId)\n",
    "driver_ids = \",\".join(f\"{dId}\" for dId in drivers.driverId)\n",
    "\n",
    "results = pd.read_sql_query(\n",
    "    f\"\"\"\n",
    "    SELECT\n",
    "        races.raceId,\n",
    "        races.name as race,\n",
    "        year,\n",
    "        circuits.name as circuit,\n",
    "        constructors.name as constructor,\n",
    "        drivers.code as driver,\n",
    "        grid as qualifyingPos, \n",
    "        position,\n",
    "        points\n",
    "    FROM \n",
    "        results\n",
    "        INNER JOIN\n",
    "            races\n",
    "            ON races.raceId = results.raceId\n",
    "        INNER JOIN\n",
    "            circuits\n",
    "            ON circuits.circuitId = races.circuitId\n",
    "        INNER JOIN\n",
    "            constructors\n",
    "            ON constructors.constructorId = results.constructorId\n",
    "        INNER JOIN\n",
    "            drivers\n",
    "            ON drivers.driverId = results.driverId\n",
    "        \n",
    "    WHERE\n",
    "        year >= {START_YEAR} AND\n",
    "        results.driverId IN ({driver_ids}) AND\n",
    "        circuits.circuitId IN ({circuit_ids})\n",
    "    \n",
    "    \"\"\", con)\n",
    "\n",
    "results"
   ]
  },
  {
   "cell_type": "markdown",
   "metadata": {},
   "source": [
    "### Fix constructors who have merged"
   ]
  },
  {
   "cell_type": "code",
   "execution_count": 8,
   "metadata": {},
   "outputs": [
    {
     "output_type": "execute_result",
     "data": {
      "text/plain": "Ferrari           377\nRed Bull          359\nMercedes          290\nMcLaren           277\nHaas F1 Team      192\nWilliams          187\nForce India       178\nToro Rosso        130\nRenault           130\nAlfa Romeo        114\nAlphaTauri        102\nAston Martin      102\nAlpine F1 Team    102\nLotus F1           84\nRacing Point       58\nSauber             56\nHRT                 8\nManor Marussia      8\nName: constructor, dtype: int64"
     },
     "metadata": {},
     "execution_count": 8
    }
   ],
   "source": [
    "results.constructor.value_counts()"
   ]
  },
  {
   "cell_type": "markdown",
   "metadata": {},
   "source": [
    "- Force India, Racing Point -> Aston Martin\n",
    "- Toro Rosso -> AlphaTauri\n",
    "- Renault, Lotus F1 -> Alpine F1 Team\n",
    "- Sauber -> Alfa Romeo\n",
    "\n",
    "HRT, Manor are defunct now so remove them"
   ]
  },
  {
   "cell_type": "code",
   "execution_count": 9,
   "metadata": {},
   "outputs": [],
   "source": [
    "constructor_mergers = {\n",
    "    \"Aston Martin\": [\"Force India\", \"Racing Point\"],\n",
    "    \"AlphaTauri\": [\"Toro Rosso\"],\n",
    "    \"Alpine F1 Team\": [\"Renault\", \"Lotus F1\"],\n",
    "    \"Alfa Romeo\": [\"Sauber\"]\n",
    "}\n",
    "\n",
    "constructor_defunct = [\"HRT\", \"Manor Marussia\"]"
   ]
  },
  {
   "cell_type": "code",
   "execution_count": 10,
   "metadata": {},
   "outputs": [
    {
     "output_type": "execute_result",
     "data": {
      "text/plain": "Ferrari           377\nRed Bull          359\nAston Martin      338\nAlpine F1 Team    316\nMercedes          290\nMcLaren           277\nAlphaTauri        232\nHaas F1 Team      192\nWilliams          187\nAlfa Romeo        170\nName: constructor, dtype: int64"
     },
     "metadata": {},
     "execution_count": 10
    }
   ],
   "source": [
    "for present_name, past_names in constructor_mergers.items():\n",
    "    results.loc[results.constructor.isin(past_names), \"constructor\"] = present_name\n",
    "\n",
    "results.drop(results[results.constructor.isin(constructor_defunct)].index, inplace=True)\n",
    "\n",
    "results.constructor.value_counts()"
   ]
  },
  {
   "cell_type": "markdown",
   "metadata": {},
   "source": [
    "### Adding teammate column"
   ]
  },
  {
   "cell_type": "code",
   "execution_count": 11,
   "metadata": {},
   "outputs": [],
   "source": [
    "teammates = []\n",
    "for i in range(results.shape[0]):\n",
    "    race_id = results.iloc[i].raceId\n",
    "    constructor = results.iloc[i].constructor\n",
    "    driver = results.iloc[i].driver\n",
    "    \n",
    "    other_driver = results[(results.raceId == race_id) & (results.constructor == constructor) & (results.driver != driver)]\n",
    "    teammates.append(other_driver.driver.iloc[0] if not other_driver.empty else \"OTHER\")\n",
    "\n",
    "results[\"teammate\"] = teammates"
   ]
  },
  {
   "cell_type": "markdown",
   "metadata": {},
   "source": [
    "### Fix undefined data points\n",
    "\n",
    "Failed to qualify = 30\n",
    "\n",
    "DNF on race = 30"
   ]
  },
  {
   "cell_type": "code",
   "execution_count": 12,
   "metadata": {},
   "outputs": [],
   "source": [
    "# results.qualifyingPos = results.qualifyingPos.replace(0, 30)\n",
    "results.position = results.position.replace(np.nan, 0).astype(np.int32)"
   ]
  },
  {
   "cell_type": "code",
   "execution_count": 13,
   "metadata": {},
   "outputs": [],
   "source": [
    "results.to_csv(\"f1_clean.csv\", index=False)"
   ]
  },
  {
   "cell_type": "markdown",
   "metadata": {},
   "source": [
    "## Calculating DNF rate per circuit"
   ]
  },
  {
   "cell_type": "code",
   "execution_count": 14,
   "metadata": {},
   "outputs": [
    {
     "output_type": "execute_result",
     "data": {
      "text/plain": "                           circuit  percentDnf\n0   Albert Park Grand Prix Circuit    0.250000\n1    Autodromo Enzo e Dino Ferrari    0.176471\n2     Autodromo Nazionale di Monza    0.135294\n3     Autódromo Hermanos Rodríguez    0.138211\n4       Autódromo José Carlos Pace    0.136691\n5    Bahrain International Circuit    0.131148\n6                Baku City Circuit    0.209091\n7        Circuit Gilles Villeneuve    0.107914\n8   Circuit de Barcelona-Catalunya    0.115607\n9                Circuit de Monaco    0.154839\n10    Circuit de Spa-Francorchamps    0.166667\n11         Circuit of the Americas    0.195946\n12                     Hungaroring    0.132184\n13         Jeddah Corniche Circuit    0.176471\n14       Marina Bay Street Circuit    0.207143\n15                   Red Bull Ring    0.165746\n16             Silverstone Circuit    0.152632\n17                  Suzuka Circuit    0.148936\n18              Yas Marina Circuit    0.121795",
      "text/html": "<div>\n<style scoped>\n    .dataframe tbody tr th:only-of-type {\n        vertical-align: middle;\n    }\n\n    .dataframe tbody tr th {\n        vertical-align: top;\n    }\n\n    .dataframe thead th {\n        text-align: right;\n    }\n</style>\n<table border=\"1\" class=\"dataframe\">\n  <thead>\n    <tr style=\"text-align: right;\">\n      <th></th>\n      <th>circuit</th>\n      <th>percentDnf</th>\n    </tr>\n  </thead>\n  <tbody>\n    <tr>\n      <th>0</th>\n      <td>Albert Park Grand Prix Circuit</td>\n      <td>0.250000</td>\n    </tr>\n    <tr>\n      <th>1</th>\n      <td>Autodromo Enzo e Dino Ferrari</td>\n      <td>0.176471</td>\n    </tr>\n    <tr>\n      <th>2</th>\n      <td>Autodromo Nazionale di Monza</td>\n      <td>0.135294</td>\n    </tr>\n    <tr>\n      <th>3</th>\n      <td>Autódromo Hermanos Rodríguez</td>\n      <td>0.138211</td>\n    </tr>\n    <tr>\n      <th>4</th>\n      <td>Autódromo José Carlos Pace</td>\n      <td>0.136691</td>\n    </tr>\n    <tr>\n      <th>5</th>\n      <td>Bahrain International Circuit</td>\n      <td>0.131148</td>\n    </tr>\n    <tr>\n      <th>6</th>\n      <td>Baku City Circuit</td>\n      <td>0.209091</td>\n    </tr>\n    <tr>\n      <th>7</th>\n      <td>Circuit Gilles Villeneuve</td>\n      <td>0.107914</td>\n    </tr>\n    <tr>\n      <th>8</th>\n      <td>Circuit de Barcelona-Catalunya</td>\n      <td>0.115607</td>\n    </tr>\n    <tr>\n      <th>9</th>\n      <td>Circuit de Monaco</td>\n      <td>0.154839</td>\n    </tr>\n    <tr>\n      <th>10</th>\n      <td>Circuit de Spa-Francorchamps</td>\n      <td>0.166667</td>\n    </tr>\n    <tr>\n      <th>11</th>\n      <td>Circuit of the Americas</td>\n      <td>0.195946</td>\n    </tr>\n    <tr>\n      <th>12</th>\n      <td>Hungaroring</td>\n      <td>0.132184</td>\n    </tr>\n    <tr>\n      <th>13</th>\n      <td>Jeddah Corniche Circuit</td>\n      <td>0.176471</td>\n    </tr>\n    <tr>\n      <th>14</th>\n      <td>Marina Bay Street Circuit</td>\n      <td>0.207143</td>\n    </tr>\n    <tr>\n      <th>15</th>\n      <td>Red Bull Ring</td>\n      <td>0.165746</td>\n    </tr>\n    <tr>\n      <th>16</th>\n      <td>Silverstone Circuit</td>\n      <td>0.152632</td>\n    </tr>\n    <tr>\n      <th>17</th>\n      <td>Suzuka Circuit</td>\n      <td>0.148936</td>\n    </tr>\n    <tr>\n      <th>18</th>\n      <td>Yas Marina Circuit</td>\n      <td>0.121795</td>\n    </tr>\n  </tbody>\n</table>\n</div>"
     },
     "metadata": {},
     "execution_count": 14
    }
   ],
   "source": [
    "def get_percent_dnf(df):\n",
    "    n_results = df.shape[0]\n",
    "    n_dnf = (df.position == 30).sum()\n",
    "    p_dnf = n_dnf / n_results\n",
    "    \n",
    "    return p_dnf\n",
    "\n",
    "dnf_circuit = results.groupby(\"circuit\").apply(get_percent_dnf).reset_index(name=\"percentDnf\")\n",
    "dnf_circuit"
   ]
  },
  {
   "cell_type": "code",
   "execution_count": 15,
   "metadata": {},
   "outputs": [],
   "source": [
    "dnf_circuit.to_csv(\"f1_dnf_circuit.csv\", index=False)"
   ]
  },
  {
   "cell_type": "code",
   "execution_count": null,
   "metadata": {},
   "outputs": [],
   "source": []
  }
 ],
 "metadata": {
  "kernelspec": {
   "display_name": "Python (en685648)",
   "language": "python",
   "name": "en685648"
  },
  "language_info": {
   "codemirror_mode": {
    "name": "ipython",
    "version": 3
   },
   "file_extension": ".py",
   "mimetype": "text/x-python",
   "name": "python",
   "nbconvert_exporter": "python",
   "pygments_lexer": "ipython3",
   "version": "3.10.6-final"
  },
  "orig_nbformat": 4
 },
 "nbformat": 4,
 "nbformat_minor": 2
}